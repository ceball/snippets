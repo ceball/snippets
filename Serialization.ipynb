{
 "cells": [
  {
   "cell_type": "code",
   "execution_count": 1,
   "metadata": {},
   "outputs": [],
   "source": [
    "from importlib import reload"
   ]
  },
  {
   "cell_type": "code",
   "execution_count": 2,
   "metadata": {},
   "outputs": [],
   "source": [
    "import param"
   ]
  },
  {
   "cell_type": "code",
   "execution_count": 3,
   "metadata": {},
   "outputs": [],
   "source": [
    "# note: not yet sure where code will end up\n",
    "import param.serialize as serialize"
   ]
  },
  {
   "cell_type": "markdown",
   "metadata": {},
   "source": [
    "## Basic example"
   ]
  },
  {
   "cell_type": "code",
   "execution_count": 4,
   "metadata": {},
   "outputs": [
    {
     "name": "stdout",
     "output_type": "stream",
     "text": [
      "Overwriting model.py\n"
     ]
    }
   ],
   "source": [
    "%%writefile model.py\n",
    "\n",
    "import param\n",
    "class Thing(param.Parameterized):\n",
    "    a = param.Number(default=2, bounds=(0,3))\n",
    "    b = param.Boolean(default=False)\n",
    "    c = param.List(default=[1,2,3],class_=int)"
   ]
  },
  {
   "cell_type": "code",
   "execution_count": 5,
   "metadata": {},
   "outputs": [],
   "source": [
    "import model\n",
    "reload(model);"
   ]
  },
  {
   "cell_type": "code",
   "execution_count": 6,
   "metadata": {},
   "outputs": [
    {
     "data": {
      "text/plain": [
       "Thing(a=2.5, b=True, c=[4, 5, 6], name='Thing00002')"
      ]
     },
     "execution_count": 6,
     "metadata": {},
     "output_type": "execute_result"
    }
   ],
   "source": [
    "thing = model.Thing(a=2.5, b=True, c=[4,5,6])\n",
    "thing"
   ]
  },
  {
   "cell_type": "markdown",
   "metadata": {},
   "source": [
    "### yaml"
   ]
  },
  {
   "cell_type": "code",
   "execution_count": 7,
   "metadata": {},
   "outputs": [],
   "source": [
    "serialize.to_yaml(thing,stream=open('thing.yaml','w'))"
   ]
  },
  {
   "cell_type": "code",
   "execution_count": 8,
   "metadata": {},
   "outputs": [
    {
     "name": "stdout",
     "output_type": "stream",
     "text": [
      "!model.Thing\n",
      "a: 2.5\n",
      "b: true\n",
      "c: [4, 5, 6]\n"
     ]
    }
   ],
   "source": [
    "!cat thing.yaml"
   ]
  },
  {
   "cell_type": "code",
   "execution_count": 9,
   "metadata": {},
   "outputs": [
    {
     "data": {
      "text/plain": [
       "Thing(a=2.5, b=True, c=[4, 5, 6], name='Thing00003')"
      ]
     },
     "execution_count": 9,
     "metadata": {},
     "output_type": "execute_result"
    }
   ],
   "source": [
    "serialize.from_yaml(open('thing.yaml'))"
   ]
  },
  {
   "cell_type": "markdown",
   "metadata": {},
   "source": [
    "### json"
   ]
  },
  {
   "cell_type": "code",
   "execution_count": 10,
   "metadata": {},
   "outputs": [],
   "source": [
    "serialize.to_json(thing,stream=open('thing.json','w'))"
   ]
  },
  {
   "cell_type": "code",
   "execution_count": 11,
   "metadata": {},
   "outputs": [
    {
     "name": "stdout",
     "output_type": "stream",
     "text": [
      "{\n",
      "    \"py/obj\": {\n",
      "        \"kwargs\": {\n",
      "            \"a\": 2.5,\n",
      "            \"b\": true,\n",
      "            \"c\": [\n",
      "                4,\n",
      "                5,\n",
      "                6\n",
      "            ]\n",
      "        },\n",
      "        \"name\": \"model.Thing\"\n",
      "    }\n",
      "}"
     ]
    }
   ],
   "source": [
    "!cat thing.json"
   ]
  },
  {
   "cell_type": "code",
   "execution_count": 12,
   "metadata": {},
   "outputs": [
    {
     "data": {
      "text/plain": [
       "Thing(a=2.5, b=True, c=[4, 5, 6], name='Thing00004')"
      ]
     },
     "execution_count": 12,
     "metadata": {},
     "output_type": "execute_result"
    }
   ],
   "source": [
    "serialize.from_json(open('thing.json'))"
   ]
  },
  {
   "cell_type": "code",
   "execution_count": null,
   "metadata": {},
   "outputs": [],
   "source": []
  },
  {
   "cell_type": "markdown",
   "metadata": {},
   "source": [
    "Any point having a \"simple\" json format that works for parameters only, supporting only json literals?\n",
    "\n",
    "```\n",
    "{\n",
    "    \"a\": 2.5,\n",
    "    \"b\": true,\n",
    "    \"c\": [4,5,6]\n",
    "}\n",
    "\n",
    "which could be explicitly passed to model.Thing to recreate object. Or could include the name:\n",
    "\n",
    "\n",
    "{\n",
    "    \"__name\": \"model.Thing\",\n",
    "         \"a\": 2.5,\n",
    "         \"b\": true,\n",
    "         \"c\": [4,5,6]\n",
    "}\n",
    "```\n"
   ]
  },
  {
   "cell_type": "markdown",
   "metadata": {},
   "source": [
    "### script_repr"
   ]
  },
  {
   "cell_type": "code",
   "execution_count": 13,
   "metadata": {},
   "outputs": [
    {
     "name": "stdout",
     "output_type": "stream",
     "text": [
      "model.Thing(a=2.5,\n",
      "    b=True,\n",
      "    c=[4, 5, 6])\n"
     ]
    }
   ],
   "source": [
    "thing_ = thing.script_repr()\n",
    "print(thing_)"
   ]
  },
  {
   "cell_type": "code",
   "execution_count": 14,
   "metadata": {},
   "outputs": [
    {
     "data": {
      "text/plain": [
       "Thing(a=2.5, b=True, c=[4, 5, 6], name='Thing00005')"
      ]
     },
     "execution_count": 14,
     "metadata": {},
     "output_type": "execute_result"
    }
   ],
   "source": [
    "eval(thing_)"
   ]
  },
  {
   "cell_type": "markdown",
   "metadata": {},
   "source": [
    "## Attempt to load invalid parameter"
   ]
  },
  {
   "cell_type": "code",
   "execution_count": 15,
   "metadata": {},
   "outputs": [
    {
     "name": "stdout",
     "output_type": "stream",
     "text": [
      "Overwriting test2.yaml\n"
     ]
    }
   ],
   "source": [
    "%%writefile test2.yaml\n",
    "\n",
    "!model.Thing\n",
    "a: 10\n",
    "b: false\n",
    "c: [1, 2, 3]"
   ]
  },
  {
   "cell_type": "code",
   "execution_count": 16,
   "metadata": {},
   "outputs": [
    {
     "name": "stdout",
     "output_type": "stream",
     "text": [
      "Parameter 'a' must be at most 3\n"
     ]
    }
   ],
   "source": [
    "try:\n",
    "    serialize.from_yaml(open('test2.yaml'))\n",
    "except ValueError as e:\n",
    "    print(e.args[0])\n",
    "else:\n",
    "    raise AssertionError"
   ]
  },
  {
   "cell_type": "markdown",
   "metadata": {},
   "source": [
    "## More complex example"
   ]
  },
  {
   "cell_type": "code",
   "execution_count": 17,
   "metadata": {},
   "outputs": [
    {
     "name": "stdout",
     "output_type": "stream",
     "text": [
      "Overwriting model2.py\n"
     ]
    }
   ],
   "source": [
    "%%writefile model2.py\n",
    "\n",
    "import param\n",
    "import numpy\n",
    "import collections\n",
    "\n",
    "def fn(a,b):\n",
    "    return a*b\n",
    "\n",
    "class Thing(param.Parameterized):\n",
    "    thing_param = param.Parameter(default=1)\n",
    "\n",
    "class SomeThing(Thing):\n",
    "    something_number = param.Number(default=2)\n",
    "    something_array = param.Array(default=numpy.array([2,2,2]))\n",
    "    something_array2 = param.Array(default=numpy.array([2,2,2]))\n",
    "    something_list = param.List(default=[2,2])\n",
    "    something_bool = param.Boolean(default=False)\n",
    "    something_string = param.String(default='two')\n",
    "    something_tupl = param.Tuple(default=(2,2,2,2))\n",
    "    something_call = param.Callable(default=fn)\n",
    "\n",
    "class Example(param.Parameterized):\n",
    "    display_name = param.String()\n",
    "    list_of_things = param.List()\n",
    "    an_object = param.ClassSelector(Thing,default=SomeThing())\n",
    "    conf_num = param.Number(default=None,bounds=(-0.5,0.5))\n",
    "    conf_odict = param.Dict(default=collections.OrderedDict([(1,2),(3,4)]))\n",
    "    conf_complex = param.Number(default=1+2j)\n",
    "    conf_deque = param.Parameter(default=collections.deque('abc'))\n",
    "    #list_of_pain = param.List([SomeThing(),SomeThing()])"
   ]
  },
  {
   "cell_type": "code",
   "execution_count": 18,
   "metadata": {},
   "outputs": [],
   "source": [
    "import model2\n",
    "reload(model2);"
   ]
  },
  {
   "cell_type": "code",
   "execution_count": 19,
   "metadata": {},
   "outputs": [
    {
     "data": {
      "text/plain": [
       "Example(an_object=SomeThing(name='SomeThing00009', something_array=array([2, 2, 2]), something_array2=array([2, 2, 2]), something_bool=False, something_call=<function fn at 0x113f34bf8>, something_list=[2, 2], something_number=2, something_string='two', something_tupl=(2, 2, 2, 2), thing_param=1), conf_complex=(1+2j), conf_deque=deque(['a', 'b', 'c']), conf_num=None, conf_odict=OrderedDict([(1, 2), (3, 4)]), display_name='', list_of_things=[], name='Example00008')"
      ]
     },
     "execution_count": 19,
     "metadata": {},
     "output_type": "execute_result"
    }
   ],
   "source": [
    "example = model2.Example()\n",
    "example"
   ]
  },
  {
   "cell_type": "markdown",
   "metadata": {},
   "source": [
    "### yaml"
   ]
  },
  {
   "cell_type": "code",
   "execution_count": 20,
   "metadata": {},
   "outputs": [],
   "source": [
    "serialize.to_yaml(example,stream=open('example.yaml','w'))"
   ]
  },
  {
   "cell_type": "code",
   "execution_count": 21,
   "metadata": {},
   "outputs": [
    {
     "name": "stdout",
     "output_type": "stream",
     "text": [
      "!model2.Example\n",
      "an_object: !model2.SomeThing\n",
      "  something_array: !numpy.array\n",
      "  - [2, 2, 2]\n",
      "  something_array2: !numpy.array\n",
      "  - [2, 2, 2]\n",
      "  something_bool: false\n",
      "  something_call: !model2.fn\n",
      "  something_list: [2, 2]\n",
      "  something_number: 2\n",
      "  something_string: two\n",
      "  something_tupl: !tuple [[2, 2, 2, 2]]\n",
      "  thing_param: 1\n",
      "conf_complex: !builtins.complex [1.0, 2.0]\n",
      "conf_deque: !collections.deque\n",
      "- [a, b, c]\n",
      "conf_num: null\n",
      "conf_odict: !collections.OrderedDict\n",
      "- - !tuple [[1, 2]]\n",
      "  - !tuple [[3, 4]]\n",
      "display_name: ''\n",
      "list_of_things: []\n"
     ]
    }
   ],
   "source": [
    "!cat example.yaml"
   ]
  },
  {
   "cell_type": "code",
   "execution_count": 22,
   "metadata": {},
   "outputs": [
    {
     "data": {
      "text/plain": [
       "Example(an_object=SomeThing(name='SomeThing00010', something_array=array([2, 2, 2]), something_array2=array([2, 2, 2]), something_bool=False, something_call=<function fn at 0x113f34bf8>, something_list=[2, 2], something_number=2, something_string='two', something_tupl=(2, 2, 2, 2), thing_param=1), conf_complex=(1+2j), conf_deque=deque(['a', 'b', 'c']), conf_num=None, conf_odict=OrderedDict([(1, 2), (3, 4)]), display_name='', list_of_things=[], name='Example00011')"
      ]
     },
     "execution_count": 22,
     "metadata": {},
     "output_type": "execute_result"
    }
   ],
   "source": [
    "example_ = serialize.from_yaml(open('example.yaml'))\n",
    "example_"
   ]
  },
  {
   "cell_type": "markdown",
   "metadata": {},
   "source": [
    "### json"
   ]
  },
  {
   "cell_type": "code",
   "execution_count": 23,
   "metadata": {},
   "outputs": [],
   "source": [
    "serialize.to_json(example,stream=open('example.json','w'))"
   ]
  },
  {
   "cell_type": "code",
   "execution_count": 24,
   "metadata": {},
   "outputs": [
    {
     "name": "stdout",
     "output_type": "stream",
     "text": [
      "{\n",
      "    \"py/obj\": {\n",
      "        \"kwargs\": {\n",
      "            \"an_object\": {\n",
      "                \"py/obj\": {\n",
      "                    \"kwargs\": {\n",
      "                        \"something_array\": {\n",
      "                            \"py/obj\": {\n",
      "                                \"args\": [\n",
      "                                    [\n",
      "                                        2,\n",
      "                                        2,\n",
      "                                        2\n",
      "                                    ]\n",
      "                                ],\n",
      "                                \"name\": \"numpy.array\"\n",
      "                            }\n",
      "                        },\n",
      "                        \"something_array2\": {\n",
      "                            \"py/obj\": {\n",
      "                                \"args\": [\n",
      "                                    [\n",
      "                                        2,\n",
      "                                        2,\n",
      "                                        2\n",
      "                                    ]\n",
      "                                ],\n",
      "                                \"name\": \"numpy.array\"\n",
      "                            }\n",
      "                        },\n",
      "                        \"something_bool\": false,\n",
      "                        \"something_call\": {\n",
      "                            \"py/name\": {\n",
      "                                \"name\": \"model2.fn\"\n",
      "                            }\n",
      "                        },\n",
      "                        \"something_list\": [\n",
      "                            2,\n",
      "                            2\n",
      "                        ],\n",
      "                        \"something_number\": 2,\n",
      "                        \"something_string\": \"two\",\n",
      "                        \"something_tupl\": {\n",
      "                            \"py/obj\": {\n",
      "                                \"args\": [\n",
      "                                    2,\n",
      "                                    2,\n",
      "                                    2,\n",
      "                                    2\n",
      "                                ],\n",
      "                                \"name\": \"builtins.tuple\"\n",
      "                            }\n",
      "                        },\n",
      "                        \"thing_param\": 1\n",
      "                    },\n",
      "                    \"name\": \"model2.SomeThing\"\n",
      "                }\n",
      "            },\n",
      "            \"conf_complex\": {\n",
      "                \"py/obj\": {\n",
      "                    \"args\": [\n",
      "                        1.0,\n",
      "                        2.0\n",
      "                    ],\n",
      "                    \"name\": \"builtins.complex\"\n",
      "                }\n",
      "            },\n",
      "            \"conf_deque\": {\n",
      "                \"py/obj\": {\n",
      "                    \"args\": [\n",
      "                        [\n",
      "                            \"a\",\n",
      "                            \"b\",\n",
      "                            \"c\"\n",
      "                        ]\n",
      "                    ],\n",
      "                    \"name\": \"collections.deque\"\n",
      "                }\n",
      "            },\n",
      "            \"conf_num\": null,\n",
      "            \"conf_odict\": {\n",
      "                \"py/obj\": {\n",
      "                    \"args\": [\n",
      "                        [\n",
      "                            [\n",
      "                                1,\n",
      "                                2\n",
      "                            ],\n",
      "                            [\n",
      "                                3,\n",
      "                                4\n",
      "                            ]\n",
      "                        ]\n",
      "                    ],\n",
      "                    \"name\": \"collections.OrderedDict\"\n",
      "                }\n",
      "            },\n",
      "            \"display_name\": \"\",\n",
      "            \"list_of_things\": []\n",
      "        },\n",
      "        \"name\": \"model2.Example\"\n",
      "    }\n",
      "}"
     ]
    }
   ],
   "source": [
    "!cat example.json"
   ]
  },
  {
   "cell_type": "code",
   "execution_count": 29,
   "metadata": {},
   "outputs": [
    {
     "name": "stdout",
     "output_type": "stream",
     "text": [
      "Collecting jsonpickle\n",
      "Installing collected packages: jsonpickle\n",
      "Successfully installed jsonpickle-0.9.5\n"
     ]
    }
   ],
   "source": [
    "!pip install jsonpickle"
   ]
  },
  {
   "cell_type": "code",
   "execution_count": 30,
   "metadata": {},
   "outputs": [
    {
     "data": {
      "text/plain": [
       "'{\"py/object\": \"model2.Example\", \"py/state\": {\"_an_object_param_value\": {\"py/object\": \"model2.SomeThing\", \"py/state\": {\"_name_param_value\": \"SomeThing00009\", \"_something_array2_param_value\": {\"py/reduce\": [{\"py/object\": \"__builtin__.builtin_function_or_method\"}, {\"py/tuple\": [{\"py/type\": \"numpy.ndarray\"}, {\"py/tuple\": [0]}, {\"py/b64\": \"Yg==\\\\n\"}]}, {\"py/tuple\": [1, {\"py/tuple\": [3]}, {\"py/reduce\": [{\"py/type\": \"numpy.dtype\"}, {\"py/tuple\": [\"i8\", 0, 1]}, {\"py/tuple\": [3, \"<\", null, null, null, -1, -1, 0]}, null, null]}, false, {\"py/b64\": \"AgAAAAAAAAACAAAAAAAAAAIAAAAAAAAA\\\\n\"}]}, null, null]}, \"_something_array_param_value\": {\"py/reduce\": [{\"py/id\": 3}, {\"py/tuple\": [{\"py/type\": \"numpy.ndarray\"}, {\"py/tuple\": [0]}, {\"py/b64\": \"Yg==\\\\n\"}]}, {\"py/tuple\": [1, {\"py/tuple\": [3]}, {\"py/id\": 4}, false, {\"py/b64\": \"AgAAAAAAAAACAAAAAAAAAAIAAAAAAAAA\\\\n\"}]}, null, null]}, \"_something_list_param_value\": [2, 2], \"initialized\": true}}, \"_conf_odict_param_value\": {\"py/reduce\": [{\"py/type\": \"collections.OrderedDict\"}, {\"py/tuple\": []}, null, null, {\"py/tuple\": [{\"py/tuple\": [1, 2]}, {\"py/tuple\": [3, 4]}]}]}, \"_list_of_things_param_value\": [], \"_name_param_value\": \"Example00008\", \"initialized\": true}}'"
      ]
     },
     "execution_count": 30,
     "metadata": {},
     "output_type": "execute_result"
    }
   ],
   "source": [
    "import jsonpickle\n",
    "jsonpickle.dumps(example)"
   ]
  },
  {
   "cell_type": "markdown",
   "metadata": {},
   "source": [
    "### script_repr"
   ]
  },
  {
   "cell_type": "code",
   "execution_count": null,
   "metadata": {},
   "outputs": [],
   "source": []
  },
  {
   "cell_type": "code",
   "execution_count": null,
   "metadata": {},
   "outputs": [],
   "source": []
  },
  {
   "cell_type": "code",
   "execution_count": null,
   "metadata": {},
   "outputs": [],
   "source": []
  },
  {
   "cell_type": "markdown",
   "metadata": {},
   "source": [
    "## Notes\n",
    "\n",
    "* same underlying mechanism used for to_yaml/from_yaml, script_repr/eval, and to_json/from_json"
   ]
  }
 ],
 "metadata": {
  "kernelspec": {
   "display_name": "Python 3",
   "language": "python",
   "name": "python3"
  },
  "language_info": {
   "codemirror_mode": {
    "name": "ipython",
    "version": 3
   },
   "file_extension": ".py",
   "mimetype": "text/x-python",
   "name": "python",
   "nbconvert_exporter": "python",
   "pygments_lexer": "ipython3",
   "version": "3.7.6"
  },
  "widgets": {
   "application/vnd.jupyter.widget-state+json": {
    "state": {},
    "version_major": 2,
    "version_minor": 0
   }
  }
 },
 "nbformat": 4,
 "nbformat_minor": 4
}
