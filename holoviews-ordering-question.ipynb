{
 "cells": [
  {
   "cell_type": "code",
   "execution_count": 1,
   "metadata": {
    "collapsed": true
   },
   "outputs": [],
   "source": [
    "import holoviews as hv\n",
    "import pandas as pd"
   ]
  },
  {
   "cell_type": "code",
   "execution_count": 2,
   "metadata": {
    "collapsed": false
   },
   "outputs": [],
   "source": [
    "%load_ext holoviews.ipython"
   ]
  },
  {
   "cell_type": "markdown",
   "metadata": {},
   "source": [
    "# ok"
   ]
  },
  {
   "cell_type": "code",
   "execution_count": 3,
   "metadata": {
    "collapsed": true
   },
   "outputs": [],
   "source": [
    "df0 = pd.DataFrame({'a':[' ','2','3',''], \n",
    "                    'b':[  7,  5,  6,  4]})"
   ]
  },
  {
   "cell_type": "code",
   "execution_count": 4,
   "metadata": {
    "collapsed": false
   },
   "outputs": [
    {
     "data": {
      "text/html": [
       "<div>\n",
       "<table border=\"1\" class=\"dataframe\">\n",
       "  <thead>\n",
       "    <tr style=\"text-align: right;\">\n",
       "      <th></th>\n",
       "      <th>a</th>\n",
       "      <th>b</th>\n",
       "    </tr>\n",
       "  </thead>\n",
       "  <tbody>\n",
       "    <tr>\n",
       "      <th>0</th>\n",
       "      <td></td>\n",
       "      <td>7</td>\n",
       "    </tr>\n",
       "    <tr>\n",
       "      <th>1</th>\n",
       "      <td>2</td>\n",
       "      <td>5</td>\n",
       "    </tr>\n",
       "    <tr>\n",
       "      <th>2</th>\n",
       "      <td>3</td>\n",
       "      <td>6</td>\n",
       "    </tr>\n",
       "    <tr>\n",
       "      <th>3</th>\n",
       "      <td></td>\n",
       "      <td>4</td>\n",
       "    </tr>\n",
       "  </tbody>\n",
       "</table>\n",
       "</div>"
      ],
      "text/plain": [
       "   a  b\n",
       "0     7\n",
       "1  2  5\n",
       "2  3  6\n",
       "3     4"
      ]
     },
     "execution_count": 4,
     "metadata": {},
     "output_type": "execute_result"
    }
   ],
   "source": [
    "df0"
   ]
  },
  {
   "cell_type": "code",
   "execution_count": 5,
   "metadata": {
    "collapsed": false
   },
   "outputs": [],
   "source": [
    "example0 = hv.DFrame(df0,\n",
    "                     kdims=[hv.Dimension('a',values='initial'), 'b'])"
   ]
  },
  {
   "cell_type": "code",
   "execution_count": 6,
   "metadata": {
    "collapsed": false
   },
   "outputs": [
    {
     "data": {
      "text/html": [
       "<img src='data:image/png;base64,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' style='max-width:100%; margin: auto; display: block; '/>"
      ],
      "text/plain": [
       ":Table   [a]   (b)"
      ]
     },
     "execution_count": 6,
     "metadata": {},
     "output_type": "execute_result"
    }
   ],
   "source": [
    "example0.table('a','b')"
   ]
  },
  {
   "cell_type": "code",
   "execution_count": 7,
   "metadata": {
    "collapsed": false
   },
   "outputs": [
    {
     "data": {
      "text/html": [
       "<img src='data:image/png;base64,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' style='max-width:100%; margin: auto; display: block; '/>"
      ],
      "text/plain": [
       ":Bars   [a]   (b)"
      ]
     },
     "execution_count": 7,
     "metadata": {},
     "output_type": "execute_result"
    }
   ],
   "source": [
    "example0.bars('a','b')"
   ]
  },
  {
   "cell_type": "markdown",
   "metadata": {},
   "source": [
    "# problem 1"
   ]
  },
  {
   "cell_type": "markdown",
   "metadata": {},
   "source": [
    "empty string in row 0 causes a problem?"
   ]
  },
  {
   "cell_type": "code",
   "execution_count": 8,
   "metadata": {
    "collapsed": false
   },
   "outputs": [],
   "source": [
    "df1 = df0.copy()\n",
    "df1.loc[0,'a'] = ''"
   ]
  },
  {
   "cell_type": "code",
   "execution_count": 9,
   "metadata": {
    "collapsed": false
   },
   "outputs": [
    {
     "data": {
      "text/html": [
       "<div>\n",
       "<table border=\"1\" class=\"dataframe\">\n",
       "  <thead>\n",
       "    <tr style=\"text-align: right;\">\n",
       "      <th></th>\n",
       "      <th>a</th>\n",
       "      <th>b</th>\n",
       "    </tr>\n",
       "  </thead>\n",
       "  <tbody>\n",
       "    <tr>\n",
       "      <th>0</th>\n",
       "      <td></td>\n",
       "      <td>7</td>\n",
       "    </tr>\n",
       "    <tr>\n",
       "      <th>1</th>\n",
       "      <td>2</td>\n",
       "      <td>5</td>\n",
       "    </tr>\n",
       "    <tr>\n",
       "      <th>2</th>\n",
       "      <td>3</td>\n",
       "      <td>6</td>\n",
       "    </tr>\n",
       "    <tr>\n",
       "      <th>3</th>\n",
       "      <td></td>\n",
       "      <td>4</td>\n",
       "    </tr>\n",
       "  </tbody>\n",
       "</table>\n",
       "</div>"
      ],
      "text/plain": [
       "   a  b\n",
       "0     7\n",
       "1  2  5\n",
       "2  3  6\n",
       "3     4"
      ]
     },
     "execution_count": 9,
     "metadata": {},
     "output_type": "execute_result"
    }
   ],
   "source": [
    "df1"
   ]
  },
  {
   "cell_type": "code",
   "execution_count": 10,
   "metadata": {
    "collapsed": false
   },
   "outputs": [],
   "source": [
    "example1 = hv.DFrame(df1, \n",
    "                     kdims=[hv.Dimension('a',values='initial'), 'b'])"
   ]
  },
  {
   "cell_type": "code",
   "execution_count": 11,
   "metadata": {
    "collapsed": false
   },
   "outputs": [
    {
     "ename": "ValueError",
     "evalue": "'' is not in list",
     "output_type": "error",
     "traceback": [
      "\u001b[1;31m---------------------------------------------------------------------------\u001b[0m",
      "\u001b[1;31mValueError\u001b[0m                                Traceback (most recent call last)",
      "\u001b[1;32m<ipython-input-11-c710087ae9df>\u001b[0m in \u001b[0;36m<module>\u001b[1;34m()\u001b[0m\n\u001b[1;32m----> 1\u001b[1;33m \u001b[0mexample1\u001b[0m\u001b[1;33m.\u001b[0m\u001b[0mtable\u001b[0m\u001b[1;33m(\u001b[0m\u001b[1;34m'a'\u001b[0m\u001b[1;33m,\u001b[0m\u001b[1;34m'b'\u001b[0m\u001b[1;33m)\u001b[0m\u001b[1;33m\u001b[0m\u001b[0m\n\u001b[0m",
      "\u001b[1;32m/home/ceball/anaconda2.3/lib/python2.7/site-packages/holoviews/interface/pandas.pyc\u001b[0m in \u001b[0;36mtable\u001b[1;34m(self, kdims, vdims, mdims, reduce_fn, **kwargs)\u001b[0m\n\u001b[0;32m    335\u001b[0m     \u001b[1;32mdef\u001b[0m \u001b[0mtable\u001b[0m\u001b[1;33m(\u001b[0m\u001b[0mself\u001b[0m\u001b[1;33m,\u001b[0m \u001b[0mkdims\u001b[0m\u001b[1;33m,\u001b[0m \u001b[0mvdims\u001b[0m\u001b[1;33m,\u001b[0m \u001b[0mmdims\u001b[0m\u001b[1;33m=\u001b[0m\u001b[1;33m[\u001b[0m\u001b[1;33m]\u001b[0m\u001b[1;33m,\u001b[0m \u001b[0mreduce_fn\u001b[0m\u001b[1;33m=\u001b[0m\u001b[0mNone\u001b[0m\u001b[1;33m,\u001b[0m \u001b[1;33m**\u001b[0m\u001b[0mkwargs\u001b[0m\u001b[1;33m)\u001b[0m\u001b[1;33m:\u001b[0m\u001b[1;33m\u001b[0m\u001b[0m\n\u001b[0;32m    336\u001b[0m         return self._convert(kdims, vdims, mdims, reduce_fn,\n\u001b[1;32m--> 337\u001b[1;33m                              view_type=Table, **kwargs)\n\u001b[0m\u001b[0;32m    338\u001b[0m \u001b[1;33m\u001b[0m\u001b[0m\n\u001b[0;32m    339\u001b[0m     \u001b[1;32mdef\u001b[0m \u001b[0mheatmap\u001b[0m\u001b[1;33m(\u001b[0m\u001b[0mself\u001b[0m\u001b[1;33m,\u001b[0m \u001b[0mkdims\u001b[0m\u001b[1;33m,\u001b[0m \u001b[0mvdims\u001b[0m\u001b[1;33m,\u001b[0m \u001b[0mmdims\u001b[0m\u001b[1;33m=\u001b[0m\u001b[1;33m[\u001b[0m\u001b[1;33m]\u001b[0m\u001b[1;33m,\u001b[0m \u001b[0mreduce_fn\u001b[0m\u001b[1;33m=\u001b[0m\u001b[0mNone\u001b[0m\u001b[1;33m,\u001b[0m \u001b[1;33m**\u001b[0m\u001b[0mkwargs\u001b[0m\u001b[1;33m)\u001b[0m\u001b[1;33m:\u001b[0m\u001b[1;33m\u001b[0m\u001b[0m\n",
      "\u001b[1;32m/home/ceball/anaconda2.3/lib/python2.7/site-packages/holoviews/interface/pandas.pyc\u001b[0m in \u001b[0;36m_convert\u001b[1;34m(self, kdims, vdims, mdims, reduce_fn, view_type, dropna, **kwargs)\u001b[0m\n\u001b[0;32m    287\u001b[0m             \u001b[1;32melse\u001b[0m\u001b[1;33m:\u001b[0m\u001b[1;33m\u001b[0m\u001b[0m\n\u001b[0;32m    288\u001b[0m                 \u001b[0mdata\u001b[0m \u001b[1;33m=\u001b[0m \u001b[1;33m[\u001b[0m\u001b[0mnp\u001b[0m\u001b[1;33m.\u001b[0m\u001b[0marray\u001b[0m\u001b[1;33m(\u001b[0m\u001b[0mvdata\u001b[0m\u001b[1;33m[\u001b[0m\u001b[0md\u001b[0m\u001b[1;33m]\u001b[0m\u001b[1;33m)\u001b[0m \u001b[1;32mfor\u001b[0m \u001b[0md\u001b[0m \u001b[1;32min\u001b[0m \u001b[0mel_dims\u001b[0m\u001b[1;33m]\u001b[0m\u001b[1;33m\u001b[0m\u001b[0m\n\u001b[1;32m--> 289\u001b[1;33m                 \u001b[0mhmap\u001b[0m\u001b[1;33m[\u001b[0m\u001b[0mk\u001b[0m\u001b[1;33m]\u001b[0m \u001b[1;33m=\u001b[0m \u001b[0mself\u001b[0m\u001b[1;33m.\u001b[0m\u001b[0m_create_table\u001b[0m\u001b[1;33m(\u001b[0m\u001b[0mdata\u001b[0m\u001b[1;33m,\u001b[0m \u001b[1;33m**\u001b[0m\u001b[0mcreate_kwargs\u001b[0m\u001b[1;33m)\u001b[0m\u001b[1;33m\u001b[0m\u001b[0m\n\u001b[0m\u001b[0;32m    290\u001b[0m         \u001b[1;32mreturn\u001b[0m \u001b[0mhmap\u001b[0m \u001b[1;32mif\u001b[0m \u001b[0mmdims\u001b[0m \u001b[1;33m!=\u001b[0m \u001b[1;33m[\u001b[0m\u001b[1;34m'Default'\u001b[0m\u001b[1;33m]\u001b[0m \u001b[1;32melse\u001b[0m \u001b[0mhmap\u001b[0m\u001b[1;33m.\u001b[0m\u001b[0mlast\u001b[0m\u001b[1;33m\u001b[0m\u001b[0m\n\u001b[0;32m    291\u001b[0m \u001b[1;33m\u001b[0m\u001b[0m\n",
      "\u001b[1;32m/home/ceball/anaconda2.3/lib/python2.7/site-packages/holoviews/interface/pandas.pyc\u001b[0m in \u001b[0;36m_create_table\u001b[1;34m(self, data, kdims, vdims, view_type, **kwargs)\u001b[0m\n\u001b[0;32m    306\u001b[0m         inherited = dict(kdims=kdims,\n\u001b[0;32m    307\u001b[0m                          vdims=vdims, label=self.label)\n\u001b[1;32m--> 308\u001b[1;33m         \u001b[1;32mreturn\u001b[0m \u001b[0mview_type\u001b[0m\u001b[1;33m(\u001b[0m\u001b[0mzip\u001b[0m\u001b[1;33m(\u001b[0m\u001b[0mkeys\u001b[0m\u001b[1;33m,\u001b[0m \u001b[0mvalues\u001b[0m\u001b[1;33m)\u001b[0m\u001b[1;33m,\u001b[0m \u001b[1;33m**\u001b[0m\u001b[0mdict\u001b[0m\u001b[1;33m(\u001b[0m\u001b[0minherited\u001b[0m\u001b[1;33m,\u001b[0m \u001b[1;33m**\u001b[0m\u001b[0mkwargs\u001b[0m\u001b[1;33m)\u001b[0m\u001b[1;33m)\u001b[0m\u001b[1;33m\u001b[0m\u001b[0m\n\u001b[0m\u001b[0;32m    309\u001b[0m \u001b[1;33m\u001b[0m\u001b[0m\n\u001b[0;32m    310\u001b[0m \u001b[1;33m\u001b[0m\u001b[0m\n",
      "\u001b[1;32m/home/ceball/anaconda2.3/lib/python2.7/site-packages/holoviews/core/element.pyc\u001b[0m in \u001b[0;36m__init__\u001b[1;34m(self, data, **params)\u001b[0m\n\u001b[0;32m    213\u001b[0m         \u001b[1;32melif\u001b[0m \u001b[0misinstance\u001b[0m\u001b[1;33m(\u001b[0m\u001b[0mdata\u001b[0m\u001b[1;33m,\u001b[0m \u001b[0mlist\u001b[0m\u001b[1;33m)\u001b[0m \u001b[1;32mand\u001b[0m \u001b[0mall\u001b[0m\u001b[1;33m(\u001b[0m\u001b[0mnp\u001b[0m\u001b[1;33m.\u001b[0m\u001b[0misscalar\u001b[0m\u001b[1;33m(\u001b[0m\u001b[0mel\u001b[0m\u001b[1;33m)\u001b[0m \u001b[1;32mfor\u001b[0m \u001b[0mel\u001b[0m \u001b[1;32min\u001b[0m \u001b[0mdata\u001b[0m\u001b[1;33m)\u001b[0m\u001b[1;33m:\u001b[0m\u001b[1;33m\u001b[0m\u001b[0m\n\u001b[0;32m    214\u001b[0m             \u001b[0mdata\u001b[0m \u001b[1;33m=\u001b[0m \u001b[0mOrderedDict\u001b[0m\u001b[1;33m(\u001b[0m\u001b[0mlist\u001b[0m\u001b[1;33m(\u001b[0m\u001b[1;33m(\u001b[0m\u001b[1;33m(\u001b[0m\u001b[0mk\u001b[0m\u001b[1;33m,\u001b[0m\u001b[1;33m)\u001b[0m\u001b[1;33m,\u001b[0m \u001b[0mv\u001b[0m\u001b[1;33m)\u001b[0m \u001b[1;32mfor\u001b[0m \u001b[0mk\u001b[0m\u001b[1;33m,\u001b[0m \u001b[0mv\u001b[0m \u001b[1;32min\u001b[0m \u001b[0menumerate\u001b[0m\u001b[1;33m(\u001b[0m\u001b[0mdata\u001b[0m\u001b[1;33m)\u001b[0m\u001b[1;33m)\u001b[0m\u001b[1;33m)\u001b[0m\u001b[1;33m\u001b[0m\u001b[0m\n\u001b[1;32m--> 215\u001b[1;33m         \u001b[0msuper\u001b[0m\u001b[1;33m(\u001b[0m\u001b[0mNdElement\u001b[0m\u001b[1;33m,\u001b[0m \u001b[0mself\u001b[0m\u001b[1;33m)\u001b[0m\u001b[1;33m.\u001b[0m\u001b[0m__init__\u001b[0m\u001b[1;33m(\u001b[0m\u001b[0mdata\u001b[0m\u001b[1;33m,\u001b[0m \u001b[1;33m**\u001b[0m\u001b[0mparams\u001b[0m\u001b[1;33m)\u001b[0m\u001b[1;33m\u001b[0m\u001b[0m\n\u001b[0m\u001b[0;32m    216\u001b[0m \u001b[1;33m\u001b[0m\u001b[0m\n\u001b[0;32m    217\u001b[0m \u001b[1;33m\u001b[0m\u001b[0m\n",
      "\u001b[1;32m/home/ceball/anaconda2.3/lib/python2.7/site-packages/holoviews/core/element.pyc\u001b[0m in \u001b[0;36m__init__\u001b[1;34m(self, data, **params)\u001b[0m\n\u001b[0;32m     49\u001b[0m             \u001b[0melement\u001b[0m \u001b[1;33m=\u001b[0m \u001b[0mdata\u001b[0m\u001b[1;33m\u001b[0m\u001b[0m\n\u001b[0;32m     50\u001b[0m             \u001b[0mdata\u001b[0m \u001b[1;33m=\u001b[0m \u001b[1;33m[\u001b[0m\u001b[1;33m]\u001b[0m\u001b[1;33m\u001b[0m\u001b[0m\n\u001b[1;32m---> 51\u001b[1;33m         \u001b[0msuper\u001b[0m\u001b[1;33m(\u001b[0m\u001b[0mElement\u001b[0m\u001b[1;33m,\u001b[0m \u001b[0mself\u001b[0m\u001b[1;33m)\u001b[0m\u001b[1;33m.\u001b[0m\u001b[0m__init__\u001b[0m\u001b[1;33m(\u001b[0m\u001b[0mdata\u001b[0m\u001b[1;33m,\u001b[0m \u001b[1;33m**\u001b[0m\u001b[0mparams\u001b[0m\u001b[1;33m)\u001b[0m\u001b[1;33m\u001b[0m\u001b[0m\n\u001b[0m\u001b[0;32m     52\u001b[0m         \u001b[1;32mif\u001b[0m \u001b[0mconvert\u001b[0m\u001b[1;33m:\u001b[0m\u001b[1;33m\u001b[0m\u001b[0m\n\u001b[0;32m     53\u001b[0m             \u001b[0mself\u001b[0m\u001b[1;33m.\u001b[0m\u001b[0mdata\u001b[0m \u001b[1;33m=\u001b[0m \u001b[0mself\u001b[0m\u001b[1;33m.\u001b[0m\u001b[0m_convert_element\u001b[0m\u001b[1;33m(\u001b[0m\u001b[0melement\u001b[0m\u001b[1;33m)\u001b[0m\u001b[1;33m\u001b[0m\u001b[0m\n",
      "\u001b[1;32m/home/ceball/anaconda2.3/lib/python2.7/site-packages/holoviews/core/ndmapping.pyc\u001b[0m in \u001b[0;36m__init__\u001b[1;34m(self, initial_items, **params)\u001b[0m\n\u001b[0;32m    119\u001b[0m             \u001b[0mself\u001b[0m\u001b[1;33m.\u001b[0m\u001b[0m_resort\u001b[0m\u001b[1;33m(\u001b[0m\u001b[1;33m)\u001b[0m\u001b[1;33m\u001b[0m\u001b[0m\n\u001b[0;32m    120\u001b[0m         \u001b[1;32melif\u001b[0m \u001b[0minitial_items\u001b[0m \u001b[1;32mis\u001b[0m \u001b[1;32mnot\u001b[0m \u001b[0mNone\u001b[0m\u001b[1;33m:\u001b[0m\u001b[1;33m\u001b[0m\u001b[0m\n\u001b[1;32m--> 121\u001b[1;33m             \u001b[0mself\u001b[0m\u001b[1;33m.\u001b[0m\u001b[0mupdate\u001b[0m\u001b[1;33m(\u001b[0m\u001b[0mOrderedDict\u001b[0m\u001b[1;33m(\u001b[0m\u001b[0minitial_items\u001b[0m\u001b[1;33m)\u001b[0m\u001b[1;33m)\u001b[0m\u001b[1;33m\u001b[0m\u001b[0m\n\u001b[0m\u001b[0;32m    122\u001b[0m         \u001b[0mself\u001b[0m\u001b[1;33m.\u001b[0m\u001b[0m_instantiated\u001b[0m \u001b[1;33m=\u001b[0m \u001b[0mTrue\u001b[0m\u001b[1;33m\u001b[0m\u001b[0m\n\u001b[0;32m    123\u001b[0m \u001b[1;33m\u001b[0m\u001b[0m\n",
      "\u001b[1;32m/home/ceball/anaconda2.3/lib/python2.7/site-packages/holoviews/core/ndmapping.pyc\u001b[0m in \u001b[0;36mupdate\u001b[1;34m(self, other)\u001b[0m\n\u001b[0;32m    450\u001b[0m         \u001b[1;32mfor\u001b[0m \u001b[0mkey\u001b[0m\u001b[1;33m,\u001b[0m \u001b[0mdata\u001b[0m \u001b[1;32min\u001b[0m \u001b[0mother\u001b[0m\u001b[1;33m.\u001b[0m\u001b[0mitems\u001b[0m\u001b[1;33m(\u001b[0m\u001b[1;33m)\u001b[0m\u001b[1;33m:\u001b[0m\u001b[1;33m\u001b[0m\u001b[0m\n\u001b[0;32m    451\u001b[0m             \u001b[0mself\u001b[0m\u001b[1;33m.\u001b[0m\u001b[0m_add_item\u001b[0m\u001b[1;33m(\u001b[0m\u001b[0mkey\u001b[0m\u001b[1;33m,\u001b[0m \u001b[0mdata\u001b[0m\u001b[1;33m,\u001b[0m \u001b[0msort\u001b[0m\u001b[1;33m=\u001b[0m\u001b[0mFalse\u001b[0m\u001b[1;33m)\u001b[0m\u001b[1;33m\u001b[0m\u001b[0m\n\u001b[1;32m--> 452\u001b[1;33m         \u001b[0mself\u001b[0m\u001b[1;33m.\u001b[0m\u001b[0m_resort\u001b[0m\u001b[1;33m(\u001b[0m\u001b[1;33m)\u001b[0m\u001b[1;33m\u001b[0m\u001b[0m\n\u001b[0m\u001b[0;32m    453\u001b[0m \u001b[1;33m\u001b[0m\u001b[0m\n\u001b[0;32m    454\u001b[0m \u001b[1;33m\u001b[0m\u001b[0m\n",
      "\u001b[1;32m/home/ceball/anaconda2.3/lib/python2.7/site-packages/holoviews/core/ndmapping.pyc\u001b[0m in \u001b[0;36m_resort\u001b[1;34m(self)\u001b[0m\n\u001b[0;32m    240\u001b[0m             resorted = dimension_sort(self.data, self.kdims,\n\u001b[0;32m    241\u001b[0m                                       \u001b[0mself\u001b[0m\u001b[1;33m.\u001b[0m\u001b[0m_cached_categorical\u001b[0m\u001b[1;33m,\u001b[0m\u001b[1;33m\u001b[0m\u001b[0m\n\u001b[1;32m--> 242\u001b[1;33m                                       self._cached_index_values)\n\u001b[0m\u001b[0;32m    243\u001b[0m             \u001b[0mself\u001b[0m\u001b[1;33m.\u001b[0m\u001b[0mdata\u001b[0m \u001b[1;33m=\u001b[0m \u001b[0mOrderedDict\u001b[0m\u001b[1;33m(\u001b[0m\u001b[0mresorted\u001b[0m\u001b[1;33m)\u001b[0m\u001b[1;33m\u001b[0m\u001b[0m\n\u001b[0;32m    244\u001b[0m \u001b[1;33m\u001b[0m\u001b[0m\n",
      "\u001b[1;32m/home/ceball/anaconda2.3/lib/python2.7/site-packages/holoviews/core/util.pyc\u001b[0m in \u001b[0;36mdimension_sort\u001b[1;34m(odict, dimensions, categorical, cached_values)\u001b[0m\n\u001b[0;32m    404\u001b[0m         \u001b[1;32mreturn\u001b[0m \u001b[0mpython2sort\u001b[0m\u001b[1;33m(\u001b[0m\u001b[0modict\u001b[0m\u001b[1;33m.\u001b[0m\u001b[0mitems\u001b[0m\u001b[1;33m(\u001b[0m\u001b[1;33m)\u001b[0m\u001b[1;33m,\u001b[0m \u001b[1;33m**\u001b[0m\u001b[0msortkws\u001b[0m\u001b[1;33m)\u001b[0m\u001b[1;33m\u001b[0m\u001b[0m\n\u001b[0;32m    405\u001b[0m     \u001b[1;32melse\u001b[0m\u001b[1;33m:\u001b[0m\u001b[1;33m\u001b[0m\u001b[0m\n\u001b[1;32m--> 406\u001b[1;33m         \u001b[1;32mreturn\u001b[0m \u001b[0msorted\u001b[0m\u001b[1;33m(\u001b[0m\u001b[0modict\u001b[0m\u001b[1;33m.\u001b[0m\u001b[0mitems\u001b[0m\u001b[1;33m(\u001b[0m\u001b[1;33m)\u001b[0m\u001b[1;33m,\u001b[0m \u001b[1;33m**\u001b[0m\u001b[0msortkws\u001b[0m\u001b[1;33m)\u001b[0m\u001b[1;33m\u001b[0m\u001b[0m\n\u001b[0m\u001b[0;32m    407\u001b[0m \u001b[1;33m\u001b[0m\u001b[0m\n\u001b[0;32m    408\u001b[0m \u001b[1;33m\u001b[0m\u001b[0m\n",
      "\u001b[1;32m/home/ceball/anaconda2.3/lib/python2.7/site-packages/holoviews/core/util.pyc\u001b[0m in \u001b[0;36m<lambda>\u001b[1;34m(x)\u001b[0m\n\u001b[0;32m    400\u001b[0m        sortkws['key'] = lambda x: tuple(cached_values[d.name].index(x[0][i])\n\u001b[0;32m    401\u001b[0m                                         \u001b[1;32mif\u001b[0m \u001b[0md\u001b[0m\u001b[1;33m.\u001b[0m\u001b[0mvalues\u001b[0m \u001b[1;32melse\u001b[0m \u001b[0mx\u001b[0m\u001b[1;33m[\u001b[0m\u001b[1;36m0\u001b[0m\u001b[1;33m]\u001b[0m\u001b[1;33m[\u001b[0m\u001b[0mi\u001b[0m\u001b[1;33m]\u001b[0m\u001b[1;33m\u001b[0m\u001b[0m\n\u001b[1;32m--> 402\u001b[1;33m                                         for i, d in enumerate(dimensions))\n\u001b[0m\u001b[0;32m    403\u001b[0m     \u001b[1;32mif\u001b[0m \u001b[0msys\u001b[0m\u001b[1;33m.\u001b[0m\u001b[0mversion_info\u001b[0m\u001b[1;33m.\u001b[0m\u001b[0mmajor\u001b[0m \u001b[1;33m==\u001b[0m \u001b[1;36m3\u001b[0m\u001b[1;33m:\u001b[0m\u001b[1;33m\u001b[0m\u001b[0m\n\u001b[0;32m    404\u001b[0m         \u001b[1;32mreturn\u001b[0m \u001b[0mpython2sort\u001b[0m\u001b[1;33m(\u001b[0m\u001b[0modict\u001b[0m\u001b[1;33m.\u001b[0m\u001b[0mitems\u001b[0m\u001b[1;33m(\u001b[0m\u001b[1;33m)\u001b[0m\u001b[1;33m,\u001b[0m \u001b[1;33m**\u001b[0m\u001b[0msortkws\u001b[0m\u001b[1;33m)\u001b[0m\u001b[1;33m\u001b[0m\u001b[0m\n",
      "\u001b[1;32m/home/ceball/anaconda2.3/lib/python2.7/site-packages/holoviews/core/util.pyc\u001b[0m in \u001b[0;36m<genexpr>\u001b[1;34m((i, d))\u001b[0m\n\u001b[0;32m    400\u001b[0m        sortkws['key'] = lambda x: tuple(cached_values[d.name].index(x[0][i])\n\u001b[0;32m    401\u001b[0m                                         \u001b[1;32mif\u001b[0m \u001b[0md\u001b[0m\u001b[1;33m.\u001b[0m\u001b[0mvalues\u001b[0m \u001b[1;32melse\u001b[0m \u001b[0mx\u001b[0m\u001b[1;33m[\u001b[0m\u001b[1;36m0\u001b[0m\u001b[1;33m]\u001b[0m\u001b[1;33m[\u001b[0m\u001b[0mi\u001b[0m\u001b[1;33m]\u001b[0m\u001b[1;33m\u001b[0m\u001b[0m\n\u001b[1;32m--> 402\u001b[1;33m                                         for i, d in enumerate(dimensions))\n\u001b[0m\u001b[0;32m    403\u001b[0m     \u001b[1;32mif\u001b[0m \u001b[0msys\u001b[0m\u001b[1;33m.\u001b[0m\u001b[0mversion_info\u001b[0m\u001b[1;33m.\u001b[0m\u001b[0mmajor\u001b[0m \u001b[1;33m==\u001b[0m \u001b[1;36m3\u001b[0m\u001b[1;33m:\u001b[0m\u001b[1;33m\u001b[0m\u001b[0m\n\u001b[0;32m    404\u001b[0m         \u001b[1;32mreturn\u001b[0m \u001b[0mpython2sort\u001b[0m\u001b[1;33m(\u001b[0m\u001b[0modict\u001b[0m\u001b[1;33m.\u001b[0m\u001b[0mitems\u001b[0m\u001b[1;33m(\u001b[0m\u001b[1;33m)\u001b[0m\u001b[1;33m,\u001b[0m \u001b[1;33m**\u001b[0m\u001b[0msortkws\u001b[0m\u001b[1;33m)\u001b[0m\u001b[1;33m\u001b[0m\u001b[0m\n",
      "\u001b[1;31mValueError\u001b[0m: '' is not in list"
     ]
    }
   ],
   "source": [
    "example1.table('a','b')"
   ]
  },
  {
   "cell_type": "markdown",
   "metadata": {},
   "source": [
    "# problem 2"
   ]
  },
  {
   "cell_type": "markdown",
   "metadata": {},
   "source": [
    "doesn't work with numbers?"
   ]
  },
  {
   "cell_type": "code",
   "execution_count": 12,
   "metadata": {
    "collapsed": true
   },
   "outputs": [],
   "source": [
    "df2 = pd.DataFrame({'a':[4,2,3,1], \n",
    "                    'b':[7,5,6,4]})"
   ]
  },
  {
   "cell_type": "code",
   "execution_count": 13,
   "metadata": {
    "collapsed": false
   },
   "outputs": [
    {
     "data": {
      "text/html": [
       "<div>\n",
       "<table border=\"1\" class=\"dataframe\">\n",
       "  <thead>\n",
       "    <tr style=\"text-align: right;\">\n",
       "      <th></th>\n",
       "      <th>a</th>\n",
       "      <th>b</th>\n",
       "    </tr>\n",
       "  </thead>\n",
       "  <tbody>\n",
       "    <tr>\n",
       "      <th>0</th>\n",
       "      <td>4</td>\n",
       "      <td>7</td>\n",
       "    </tr>\n",
       "    <tr>\n",
       "      <th>1</th>\n",
       "      <td>2</td>\n",
       "      <td>5</td>\n",
       "    </tr>\n",
       "    <tr>\n",
       "      <th>2</th>\n",
       "      <td>3</td>\n",
       "      <td>6</td>\n",
       "    </tr>\n",
       "    <tr>\n",
       "      <th>3</th>\n",
       "      <td>1</td>\n",
       "      <td>4</td>\n",
       "    </tr>\n",
       "  </tbody>\n",
       "</table>\n",
       "</div>"
      ],
      "text/plain": [
       "   a  b\n",
       "0  4  7\n",
       "1  2  5\n",
       "2  3  6\n",
       "3  1  4"
      ]
     },
     "execution_count": 13,
     "metadata": {},
     "output_type": "execute_result"
    }
   ],
   "source": [
    "df2"
   ]
  },
  {
   "cell_type": "code",
   "execution_count": 14,
   "metadata": {
    "collapsed": true
   },
   "outputs": [],
   "source": [
    "example2 = hv.DFrame(df2, \n",
    "                     kdims=[hv.Dimension('a',values='initial'), 'b'])"
   ]
  },
  {
   "cell_type": "code",
   "execution_count": 15,
   "metadata": {
    "collapsed": false
   },
   "outputs": [
    {
     "ename": "TypeError",
     "evalue": "'in <string>' requires string as left operand, not numpy.int64",
     "output_type": "error",
     "traceback": [
      "\u001b[1;31m---------------------------------------------------------------------------\u001b[0m",
      "\u001b[1;31mTypeError\u001b[0m                                 Traceback (most recent call last)",
      "\u001b[1;32m<ipython-input-15-93b938390acf>\u001b[0m in \u001b[0;36m<module>\u001b[1;34m()\u001b[0m\n\u001b[1;32m----> 1\u001b[1;33m \u001b[0mexample2\u001b[0m\u001b[1;33m.\u001b[0m\u001b[0mtable\u001b[0m\u001b[1;33m(\u001b[0m\u001b[1;34m'a'\u001b[0m\u001b[1;33m,\u001b[0m\u001b[1;34m'b'\u001b[0m\u001b[1;33m)\u001b[0m\u001b[1;33m\u001b[0m\u001b[0m\n\u001b[0m",
      "\u001b[1;32m/home/ceball/anaconda2.3/lib/python2.7/site-packages/holoviews/interface/pandas.pyc\u001b[0m in \u001b[0;36mtable\u001b[1;34m(self, kdims, vdims, mdims, reduce_fn, **kwargs)\u001b[0m\n\u001b[0;32m    335\u001b[0m     \u001b[1;32mdef\u001b[0m \u001b[0mtable\u001b[0m\u001b[1;33m(\u001b[0m\u001b[0mself\u001b[0m\u001b[1;33m,\u001b[0m \u001b[0mkdims\u001b[0m\u001b[1;33m,\u001b[0m \u001b[0mvdims\u001b[0m\u001b[1;33m,\u001b[0m \u001b[0mmdims\u001b[0m\u001b[1;33m=\u001b[0m\u001b[1;33m[\u001b[0m\u001b[1;33m]\u001b[0m\u001b[1;33m,\u001b[0m \u001b[0mreduce_fn\u001b[0m\u001b[1;33m=\u001b[0m\u001b[0mNone\u001b[0m\u001b[1;33m,\u001b[0m \u001b[1;33m**\u001b[0m\u001b[0mkwargs\u001b[0m\u001b[1;33m)\u001b[0m\u001b[1;33m:\u001b[0m\u001b[1;33m\u001b[0m\u001b[0m\n\u001b[0;32m    336\u001b[0m         return self._convert(kdims, vdims, mdims, reduce_fn,\n\u001b[1;32m--> 337\u001b[1;33m                              view_type=Table, **kwargs)\n\u001b[0m\u001b[0;32m    338\u001b[0m \u001b[1;33m\u001b[0m\u001b[0m\n\u001b[0;32m    339\u001b[0m     \u001b[1;32mdef\u001b[0m \u001b[0mheatmap\u001b[0m\u001b[1;33m(\u001b[0m\u001b[0mself\u001b[0m\u001b[1;33m,\u001b[0m \u001b[0mkdims\u001b[0m\u001b[1;33m,\u001b[0m \u001b[0mvdims\u001b[0m\u001b[1;33m,\u001b[0m \u001b[0mmdims\u001b[0m\u001b[1;33m=\u001b[0m\u001b[1;33m[\u001b[0m\u001b[1;33m]\u001b[0m\u001b[1;33m,\u001b[0m \u001b[0mreduce_fn\u001b[0m\u001b[1;33m=\u001b[0m\u001b[0mNone\u001b[0m\u001b[1;33m,\u001b[0m \u001b[1;33m**\u001b[0m\u001b[0mkwargs\u001b[0m\u001b[1;33m)\u001b[0m\u001b[1;33m:\u001b[0m\u001b[1;33m\u001b[0m\u001b[0m\n",
      "\u001b[1;32m/home/ceball/anaconda2.3/lib/python2.7/site-packages/holoviews/interface/pandas.pyc\u001b[0m in \u001b[0;36m_convert\u001b[1;34m(self, kdims, vdims, mdims, reduce_fn, view_type, dropna, **kwargs)\u001b[0m\n\u001b[0;32m    287\u001b[0m             \u001b[1;32melse\u001b[0m\u001b[1;33m:\u001b[0m\u001b[1;33m\u001b[0m\u001b[0m\n\u001b[0;32m    288\u001b[0m                 \u001b[0mdata\u001b[0m \u001b[1;33m=\u001b[0m \u001b[1;33m[\u001b[0m\u001b[0mnp\u001b[0m\u001b[1;33m.\u001b[0m\u001b[0marray\u001b[0m\u001b[1;33m(\u001b[0m\u001b[0mvdata\u001b[0m\u001b[1;33m[\u001b[0m\u001b[0md\u001b[0m\u001b[1;33m]\u001b[0m\u001b[1;33m)\u001b[0m \u001b[1;32mfor\u001b[0m \u001b[0md\u001b[0m \u001b[1;32min\u001b[0m \u001b[0mel_dims\u001b[0m\u001b[1;33m]\u001b[0m\u001b[1;33m\u001b[0m\u001b[0m\n\u001b[1;32m--> 289\u001b[1;33m                 \u001b[0mhmap\u001b[0m\u001b[1;33m[\u001b[0m\u001b[0mk\u001b[0m\u001b[1;33m]\u001b[0m \u001b[1;33m=\u001b[0m \u001b[0mself\u001b[0m\u001b[1;33m.\u001b[0m\u001b[0m_create_table\u001b[0m\u001b[1;33m(\u001b[0m\u001b[0mdata\u001b[0m\u001b[1;33m,\u001b[0m \u001b[1;33m**\u001b[0m\u001b[0mcreate_kwargs\u001b[0m\u001b[1;33m)\u001b[0m\u001b[1;33m\u001b[0m\u001b[0m\n\u001b[0m\u001b[0;32m    290\u001b[0m         \u001b[1;32mreturn\u001b[0m \u001b[0mhmap\u001b[0m \u001b[1;32mif\u001b[0m \u001b[0mmdims\u001b[0m \u001b[1;33m!=\u001b[0m \u001b[1;33m[\u001b[0m\u001b[1;34m'Default'\u001b[0m\u001b[1;33m]\u001b[0m \u001b[1;32melse\u001b[0m \u001b[0mhmap\u001b[0m\u001b[1;33m.\u001b[0m\u001b[0mlast\u001b[0m\u001b[1;33m\u001b[0m\u001b[0m\n\u001b[0;32m    291\u001b[0m \u001b[1;33m\u001b[0m\u001b[0m\n",
      "\u001b[1;32m/home/ceball/anaconda2.3/lib/python2.7/site-packages/holoviews/interface/pandas.pyc\u001b[0m in \u001b[0;36m_create_table\u001b[1;34m(self, data, kdims, vdims, view_type, **kwargs)\u001b[0m\n\u001b[0;32m    306\u001b[0m         inherited = dict(kdims=kdims,\n\u001b[0;32m    307\u001b[0m                          vdims=vdims, label=self.label)\n\u001b[1;32m--> 308\u001b[1;33m         \u001b[1;32mreturn\u001b[0m \u001b[0mview_type\u001b[0m\u001b[1;33m(\u001b[0m\u001b[0mzip\u001b[0m\u001b[1;33m(\u001b[0m\u001b[0mkeys\u001b[0m\u001b[1;33m,\u001b[0m \u001b[0mvalues\u001b[0m\u001b[1;33m)\u001b[0m\u001b[1;33m,\u001b[0m \u001b[1;33m**\u001b[0m\u001b[0mdict\u001b[0m\u001b[1;33m(\u001b[0m\u001b[0minherited\u001b[0m\u001b[1;33m,\u001b[0m \u001b[1;33m**\u001b[0m\u001b[0mkwargs\u001b[0m\u001b[1;33m)\u001b[0m\u001b[1;33m)\u001b[0m\u001b[1;33m\u001b[0m\u001b[0m\n\u001b[0m\u001b[0;32m    309\u001b[0m \u001b[1;33m\u001b[0m\u001b[0m\n\u001b[0;32m    310\u001b[0m \u001b[1;33m\u001b[0m\u001b[0m\n",
      "\u001b[1;32m/home/ceball/anaconda2.3/lib/python2.7/site-packages/holoviews/core/element.pyc\u001b[0m in \u001b[0;36m__init__\u001b[1;34m(self, data, **params)\u001b[0m\n\u001b[0;32m    213\u001b[0m         \u001b[1;32melif\u001b[0m \u001b[0misinstance\u001b[0m\u001b[1;33m(\u001b[0m\u001b[0mdata\u001b[0m\u001b[1;33m,\u001b[0m \u001b[0mlist\u001b[0m\u001b[1;33m)\u001b[0m \u001b[1;32mand\u001b[0m \u001b[0mall\u001b[0m\u001b[1;33m(\u001b[0m\u001b[0mnp\u001b[0m\u001b[1;33m.\u001b[0m\u001b[0misscalar\u001b[0m\u001b[1;33m(\u001b[0m\u001b[0mel\u001b[0m\u001b[1;33m)\u001b[0m \u001b[1;32mfor\u001b[0m \u001b[0mel\u001b[0m \u001b[1;32min\u001b[0m \u001b[0mdata\u001b[0m\u001b[1;33m)\u001b[0m\u001b[1;33m:\u001b[0m\u001b[1;33m\u001b[0m\u001b[0m\n\u001b[0;32m    214\u001b[0m             \u001b[0mdata\u001b[0m \u001b[1;33m=\u001b[0m \u001b[0mOrderedDict\u001b[0m\u001b[1;33m(\u001b[0m\u001b[0mlist\u001b[0m\u001b[1;33m(\u001b[0m\u001b[1;33m(\u001b[0m\u001b[1;33m(\u001b[0m\u001b[0mk\u001b[0m\u001b[1;33m,\u001b[0m\u001b[1;33m)\u001b[0m\u001b[1;33m,\u001b[0m \u001b[0mv\u001b[0m\u001b[1;33m)\u001b[0m \u001b[1;32mfor\u001b[0m \u001b[0mk\u001b[0m\u001b[1;33m,\u001b[0m \u001b[0mv\u001b[0m \u001b[1;32min\u001b[0m \u001b[0menumerate\u001b[0m\u001b[1;33m(\u001b[0m\u001b[0mdata\u001b[0m\u001b[1;33m)\u001b[0m\u001b[1;33m)\u001b[0m\u001b[1;33m)\u001b[0m\u001b[1;33m\u001b[0m\u001b[0m\n\u001b[1;32m--> 215\u001b[1;33m         \u001b[0msuper\u001b[0m\u001b[1;33m(\u001b[0m\u001b[0mNdElement\u001b[0m\u001b[1;33m,\u001b[0m \u001b[0mself\u001b[0m\u001b[1;33m)\u001b[0m\u001b[1;33m.\u001b[0m\u001b[0m__init__\u001b[0m\u001b[1;33m(\u001b[0m\u001b[0mdata\u001b[0m\u001b[1;33m,\u001b[0m \u001b[1;33m**\u001b[0m\u001b[0mparams\u001b[0m\u001b[1;33m)\u001b[0m\u001b[1;33m\u001b[0m\u001b[0m\n\u001b[0m\u001b[0;32m    216\u001b[0m \u001b[1;33m\u001b[0m\u001b[0m\n\u001b[0;32m    217\u001b[0m \u001b[1;33m\u001b[0m\u001b[0m\n",
      "\u001b[1;32m/home/ceball/anaconda2.3/lib/python2.7/site-packages/holoviews/core/element.pyc\u001b[0m in \u001b[0;36m__init__\u001b[1;34m(self, data, **params)\u001b[0m\n\u001b[0;32m     49\u001b[0m             \u001b[0melement\u001b[0m \u001b[1;33m=\u001b[0m \u001b[0mdata\u001b[0m\u001b[1;33m\u001b[0m\u001b[0m\n\u001b[0;32m     50\u001b[0m             \u001b[0mdata\u001b[0m \u001b[1;33m=\u001b[0m \u001b[1;33m[\u001b[0m\u001b[1;33m]\u001b[0m\u001b[1;33m\u001b[0m\u001b[0m\n\u001b[1;32m---> 51\u001b[1;33m         \u001b[0msuper\u001b[0m\u001b[1;33m(\u001b[0m\u001b[0mElement\u001b[0m\u001b[1;33m,\u001b[0m \u001b[0mself\u001b[0m\u001b[1;33m)\u001b[0m\u001b[1;33m.\u001b[0m\u001b[0m__init__\u001b[0m\u001b[1;33m(\u001b[0m\u001b[0mdata\u001b[0m\u001b[1;33m,\u001b[0m \u001b[1;33m**\u001b[0m\u001b[0mparams\u001b[0m\u001b[1;33m)\u001b[0m\u001b[1;33m\u001b[0m\u001b[0m\n\u001b[0m\u001b[0;32m     52\u001b[0m         \u001b[1;32mif\u001b[0m \u001b[0mconvert\u001b[0m\u001b[1;33m:\u001b[0m\u001b[1;33m\u001b[0m\u001b[0m\n\u001b[0;32m     53\u001b[0m             \u001b[0mself\u001b[0m\u001b[1;33m.\u001b[0m\u001b[0mdata\u001b[0m \u001b[1;33m=\u001b[0m \u001b[0mself\u001b[0m\u001b[1;33m.\u001b[0m\u001b[0m_convert_element\u001b[0m\u001b[1;33m(\u001b[0m\u001b[0melement\u001b[0m\u001b[1;33m)\u001b[0m\u001b[1;33m\u001b[0m\u001b[0m\n",
      "\u001b[1;32m/home/ceball/anaconda2.3/lib/python2.7/site-packages/holoviews/core/ndmapping.pyc\u001b[0m in \u001b[0;36m__init__\u001b[1;34m(self, initial_items, **params)\u001b[0m\n\u001b[0;32m    119\u001b[0m             \u001b[0mself\u001b[0m\u001b[1;33m.\u001b[0m\u001b[0m_resort\u001b[0m\u001b[1;33m(\u001b[0m\u001b[1;33m)\u001b[0m\u001b[1;33m\u001b[0m\u001b[0m\n\u001b[0;32m    120\u001b[0m         \u001b[1;32melif\u001b[0m \u001b[0minitial_items\u001b[0m \u001b[1;32mis\u001b[0m \u001b[1;32mnot\u001b[0m \u001b[0mNone\u001b[0m\u001b[1;33m:\u001b[0m\u001b[1;33m\u001b[0m\u001b[0m\n\u001b[1;32m--> 121\u001b[1;33m             \u001b[0mself\u001b[0m\u001b[1;33m.\u001b[0m\u001b[0mupdate\u001b[0m\u001b[1;33m(\u001b[0m\u001b[0mOrderedDict\u001b[0m\u001b[1;33m(\u001b[0m\u001b[0minitial_items\u001b[0m\u001b[1;33m)\u001b[0m\u001b[1;33m)\u001b[0m\u001b[1;33m\u001b[0m\u001b[0m\n\u001b[0m\u001b[0;32m    122\u001b[0m         \u001b[0mself\u001b[0m\u001b[1;33m.\u001b[0m\u001b[0m_instantiated\u001b[0m \u001b[1;33m=\u001b[0m \u001b[0mTrue\u001b[0m\u001b[1;33m\u001b[0m\u001b[0m\n\u001b[0;32m    123\u001b[0m \u001b[1;33m\u001b[0m\u001b[0m\n",
      "\u001b[1;32m/home/ceball/anaconda2.3/lib/python2.7/site-packages/holoviews/core/ndmapping.pyc\u001b[0m in \u001b[0;36mupdate\u001b[1;34m(self, other)\u001b[0m\n\u001b[0;32m    449\u001b[0m             \u001b[0mother\u001b[0m \u001b[1;33m=\u001b[0m \u001b[0mother\u001b[0m\u001b[1;33m.\u001b[0m\u001b[0mdata\u001b[0m\u001b[1;33m\u001b[0m\u001b[0m\n\u001b[0;32m    450\u001b[0m         \u001b[1;32mfor\u001b[0m \u001b[0mkey\u001b[0m\u001b[1;33m,\u001b[0m \u001b[0mdata\u001b[0m \u001b[1;32min\u001b[0m \u001b[0mother\u001b[0m\u001b[1;33m.\u001b[0m\u001b[0mitems\u001b[0m\u001b[1;33m(\u001b[0m\u001b[1;33m)\u001b[0m\u001b[1;33m:\u001b[0m\u001b[1;33m\u001b[0m\u001b[0m\n\u001b[1;32m--> 451\u001b[1;33m             \u001b[0mself\u001b[0m\u001b[1;33m.\u001b[0m\u001b[0m_add_item\u001b[0m\u001b[1;33m(\u001b[0m\u001b[0mkey\u001b[0m\u001b[1;33m,\u001b[0m \u001b[0mdata\u001b[0m\u001b[1;33m,\u001b[0m \u001b[0msort\u001b[0m\u001b[1;33m=\u001b[0m\u001b[0mFalse\u001b[0m\u001b[1;33m)\u001b[0m\u001b[1;33m\u001b[0m\u001b[0m\n\u001b[0m\u001b[0;32m    452\u001b[0m         \u001b[0mself\u001b[0m\u001b[1;33m.\u001b[0m\u001b[0m_resort\u001b[0m\u001b[1;33m(\u001b[0m\u001b[1;33m)\u001b[0m\u001b[1;33m\u001b[0m\u001b[0m\n\u001b[0;32m    453\u001b[0m \u001b[1;33m\u001b[0m\u001b[0m\n",
      "\u001b[1;32m/home/ceball/anaconda2.3/lib/python2.7/site-packages/holoviews/element/tabular.pyc\u001b[0m in \u001b[0;36m_add_item\u001b[1;34m(self, key, value, sort)\u001b[0m\n\u001b[0;32m    174\u001b[0m                 \u001b[1;32mraise\u001b[0m \u001b[0mException\u001b[0m\u001b[1;33m(\u001b[0m\u001b[1;34m\"Input ItemTables dimensions must match value dimensions.\"\u001b[0m\u001b[1;33m)\u001b[0m\u001b[1;33m\u001b[0m\u001b[0m\n\u001b[0;32m    175\u001b[0m             \u001b[0mvalue\u001b[0m \u001b[1;33m=\u001b[0m \u001b[0mvalue\u001b[0m\u001b[1;33m.\u001b[0m\u001b[0mdata\u001b[0m\u001b[1;33m.\u001b[0m\u001b[0mvalues\u001b[0m\u001b[1;33m(\u001b[0m\u001b[1;33m)\u001b[0m\u001b[1;33m\u001b[0m\u001b[0m\n\u001b[1;32m--> 176\u001b[1;33m         \u001b[0msuper\u001b[0m\u001b[1;33m(\u001b[0m\u001b[0mTable\u001b[0m\u001b[1;33m,\u001b[0m \u001b[0mself\u001b[0m\u001b[1;33m)\u001b[0m\u001b[1;33m.\u001b[0m\u001b[0m_add_item\u001b[0m\u001b[1;33m(\u001b[0m\u001b[0mkey\u001b[0m\u001b[1;33m,\u001b[0m \u001b[0mvalue\u001b[0m\u001b[1;33m,\u001b[0m \u001b[0msort\u001b[0m\u001b[1;33m)\u001b[0m\u001b[1;33m\u001b[0m\u001b[0m\n\u001b[0m\u001b[0;32m    177\u001b[0m \u001b[1;33m\u001b[0m\u001b[0m\n\u001b[0;32m    178\u001b[0m     \u001b[1;33m@\u001b[0m\u001b[0mproperty\u001b[0m\u001b[1;33m\u001b[0m\u001b[0m\n",
      "\u001b[1;32m/home/ceball/anaconda2.3/lib/python2.7/site-packages/holoviews/core/element.pyc\u001b[0m in \u001b[0;36m_add_item\u001b[1;34m(self, key, value, sort)\u001b[0m\n\u001b[0;32m    257\u001b[0m             raise ValueError(\"%s values must match value dimensions\"\n\u001b[0;32m    258\u001b[0m                              % type(self).__name__)\n\u001b[1;32m--> 259\u001b[1;33m         \u001b[0msuper\u001b[0m\u001b[1;33m(\u001b[0m\u001b[0mNdElement\u001b[0m\u001b[1;33m,\u001b[0m \u001b[0mself\u001b[0m\u001b[1;33m)\u001b[0m\u001b[1;33m.\u001b[0m\u001b[0m_add_item\u001b[0m\u001b[1;33m(\u001b[0m\u001b[0mkey\u001b[0m\u001b[1;33m,\u001b[0m \u001b[0mvalue\u001b[0m\u001b[1;33m,\u001b[0m \u001b[0msort\u001b[0m\u001b[1;33m)\u001b[0m\u001b[1;33m\u001b[0m\u001b[0m\n\u001b[0m\u001b[0;32m    260\u001b[0m \u001b[1;33m\u001b[0m\u001b[0m\n\u001b[0;32m    261\u001b[0m \u001b[1;33m\u001b[0m\u001b[0m\n",
      "\u001b[1;32m/home/ceball/anaconda2.3/lib/python2.7/site-packages/holoviews/core/ndmapping.pyc\u001b[0m in \u001b[0;36m_add_item\u001b[1;34m(self, dim_vals, data, sort)\u001b[0m\n\u001b[0;32m    166\u001b[0m             \u001b[1;32mif\u001b[0m \u001b[0mvals\u001b[0m \u001b[1;33m==\u001b[0m \u001b[1;34m'initial'\u001b[0m\u001b[1;33m:\u001b[0m \u001b[0mself\u001b[0m\u001b[1;33m.\u001b[0m\u001b[0m_cached_index_values\u001b[0m\u001b[1;33m[\u001b[0m\u001b[0mdim\u001b[0m\u001b[1;33m]\u001b[0m \u001b[1;33m=\u001b[0m \u001b[1;33m[\u001b[0m\u001b[1;33m]\u001b[0m\u001b[1;33m\u001b[0m\u001b[0m\n\u001b[0;32m    167\u001b[0m             \u001b[1;32mif\u001b[0m \u001b[1;32mnot\u001b[0m \u001b[0mself\u001b[0m\u001b[1;33m.\u001b[0m\u001b[0m_instantiated\u001b[0m \u001b[1;32mand\u001b[0m \u001b[0mself\u001b[0m\u001b[1;33m.\u001b[0m\u001b[0mget_dimension\u001b[0m\u001b[1;33m(\u001b[0m\u001b[0mdim\u001b[0m\u001b[1;33m)\u001b[0m\u001b[1;33m.\u001b[0m\u001b[0mvalues\u001b[0m \u001b[1;33m==\u001b[0m \u001b[1;34m'initial'\u001b[0m\u001b[1;33m:\u001b[0m\u001b[1;33m\u001b[0m\u001b[0m\n\u001b[1;32m--> 168\u001b[1;33m                 \u001b[1;32mif\u001b[0m \u001b[0mval\u001b[0m \u001b[1;32mnot\u001b[0m \u001b[1;32min\u001b[0m \u001b[0mvals\u001b[0m\u001b[1;33m:\u001b[0m\u001b[1;33m\u001b[0m\u001b[0m\n\u001b[0m\u001b[0;32m    169\u001b[0m                     \u001b[0mself\u001b[0m\u001b[1;33m.\u001b[0m\u001b[0m_cached_index_values\u001b[0m\u001b[1;33m[\u001b[0m\u001b[0mdim\u001b[0m\u001b[1;33m]\u001b[0m\u001b[1;33m.\u001b[0m\u001b[0mappend\u001b[0m\u001b[1;33m(\u001b[0m\u001b[0mval\u001b[0m\u001b[1;33m)\u001b[0m\u001b[1;33m\u001b[0m\u001b[0m\n\u001b[0;32m    170\u001b[0m             \u001b[1;32melif\u001b[0m \u001b[0mvals\u001b[0m \u001b[1;32mand\u001b[0m \u001b[0mval\u001b[0m \u001b[1;32mnot\u001b[0m \u001b[1;32min\u001b[0m \u001b[0mvals\u001b[0m\u001b[1;33m:\u001b[0m\u001b[1;33m\u001b[0m\u001b[0m\n",
      "\u001b[1;31mTypeError\u001b[0m: 'in <string>' requires string as left operand, not numpy.int64"
     ]
    }
   ],
   "source": [
    "example2.table('a','b')"
   ]
  },
  {
   "cell_type": "code",
   "execution_count": null,
   "metadata": {
    "collapsed": true
   },
   "outputs": [],
   "source": []
  }
 ],
 "metadata": {
  "kernelspec": {
   "display_name": "Python 2",
   "language": "python",
   "name": "python2"
  },
  "language_info": {
   "codemirror_mode": {
    "name": "ipython",
    "version": 2
   },
   "file_extension": ".py",
   "mimetype": "text/x-python",
   "name": "python",
   "nbconvert_exporter": "python",
   "pygments_lexer": "ipython2",
   "version": "2.7.10"
  }
 },
 "nbformat": 4,
 "nbformat_minor": 0
}
