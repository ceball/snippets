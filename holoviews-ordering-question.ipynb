{
 "cells": [
  {
   "cell_type": "code",
   "execution_count": 1,
   "metadata": {
    "collapsed": true
   },
   "outputs": [],
   "source": [
    "import holoviews as hv\n",
    "import pandas as pd"
   ]
  },
  {
   "cell_type": "code",
   "execution_count": 2,
   "metadata": {
    "collapsed": false
   },
   "outputs": [],
   "source": [
    "%load_ext holoviews.ipython"
   ]
  },
  {
   "cell_type": "code",
   "execution_count": 3,
   "metadata": {
    "collapsed": true
   },
   "outputs": [],
   "source": [
    "df = pd.DataFrame({'a':[4,2,3,1], 'b':[7,5,6,4]})"
   ]
  },
  {
   "cell_type": "code",
   "execution_count": 4,
   "metadata": {
    "collapsed": false
   },
   "outputs": [
    {
     "data": {
      "text/html": [
       "<div>\n",
       "<table border=\"1\" class=\"dataframe\">\n",
       "  <thead>\n",
       "    <tr style=\"text-align: right;\">\n",
       "      <th></th>\n",
       "      <th>a</th>\n",
       "      <th>b</th>\n",
       "    </tr>\n",
       "  </thead>\n",
       "  <tbody>\n",
       "    <tr>\n",
       "      <th>0</th>\n",
       "      <td>4</td>\n",
       "      <td>7</td>\n",
       "    </tr>\n",
       "    <tr>\n",
       "      <th>1</th>\n",
       "      <td>2</td>\n",
       "      <td>5</td>\n",
       "    </tr>\n",
       "    <tr>\n",
       "      <th>2</th>\n",
       "      <td>3</td>\n",
       "      <td>6</td>\n",
       "    </tr>\n",
       "    <tr>\n",
       "      <th>3</th>\n",
       "      <td>1</td>\n",
       "      <td>4</td>\n",
       "    </tr>\n",
       "  </tbody>\n",
       "</table>\n",
       "</div>"
      ],
      "text/plain": [
       "   a  b\n",
       "0  4  7\n",
       "1  2  5\n",
       "2  3  6\n",
       "3  1  4"
      ]
     },
     "execution_count": 4,
     "metadata": {},
     "output_type": "execute_result"
    }
   ],
   "source": [
    "df"
   ]
  },
  {
   "cell_type": "code",
   "execution_count": 5,
   "metadata": {
    "collapsed": true
   },
   "outputs": [],
   "source": [
    "example = hv.DFrame(df)"
   ]
  },
  {
   "cell_type": "code",
   "execution_count": 6,
   "metadata": {
    "collapsed": false
   },
   "outputs": [
    {
     "data": {
      "text/html": [
       "<img src='data:image/png;base64,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' style='max-width:100%; margin: auto; display: block; '/>"
      ],
      "text/plain": [
       ":Table   [a]   (b)"
      ]
     },
     "execution_count": 6,
     "metadata": {},
     "output_type": "execute_result"
    }
   ],
   "source": [
    "example.table('a','b')"
   ]
  },
  {
   "cell_type": "code",
   "execution_count": 7,
   "metadata": {
    "collapsed": false
   },
   "outputs": [
    {
     "data": {
      "text/html": [
       "<img src='data:image/png;base64,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' style='max-width:100%; margin: auto; display: block; '/>"
      ],
      "text/plain": [
       ":Bars   [a]   (b)"
      ]
     },
     "execution_count": 7,
     "metadata": {},
     "output_type": "execute_result"
    }
   ],
   "source": [
    "example.bars('a','b')"
   ]
  },
  {
   "cell_type": "code",
   "execution_count": null,
   "metadata": {
    "collapsed": true
   },
   "outputs": [],
   "source": []
  }
 ],
 "metadata": {
  "kernelspec": {
   "display_name": "Python 2",
   "language": "python",
   "name": "python2"
  },
  "language_info": {
   "codemirror_mode": {
    "name": "ipython",
    "version": 2
   },
   "file_extension": ".py",
   "mimetype": "text/x-python",
   "name": "python",
   "nbconvert_exporter": "python",
   "pygments_lexer": "ipython2",
   "version": "2.7.10"
  }
 },
 "nbformat": 4,
 "nbformat_minor": 0
}
