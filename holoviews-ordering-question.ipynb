{
 "cells": [
  {
   "cell_type": "code",
   "execution_count": 1,
   "metadata": {
    "collapsed": true
   },
   "outputs": [],
   "source": [
    "import holoviews as hv\n",
    "import pandas as pd"
   ]
  },
  {
   "cell_type": "code",
   "execution_count": 2,
   "metadata": {
    "collapsed": false
   },
   "outputs": [],
   "source": [
    "%load_ext holoviews.ipython"
   ]
  },
  {
   "cell_type": "markdown",
   "metadata": {},
   "source": [
    "# ok"
   ]
  },
  {
   "cell_type": "code",
   "execution_count": 3,
   "metadata": {
    "collapsed": true
   },
   "outputs": [],
   "source": [
    "df0 = pd.DataFrame({'a':[' ','3','2',''], \n",
    "                    'b':[  7,  5,  6,  4]})"
   ]
  },
  {
   "cell_type": "code",
   "execution_count": 4,
   "metadata": {
    "collapsed": false
   },
   "outputs": [
    {
     "data": {
      "text/html": [
       "<div>\n",
       "<table border=\"1\" class=\"dataframe\">\n",
       "  <thead>\n",
       "    <tr style=\"text-align: right;\">\n",
       "      <th></th>\n",
       "      <th>a</th>\n",
       "      <th>b</th>\n",
       "    </tr>\n",
       "  </thead>\n",
       "  <tbody>\n",
       "    <tr>\n",
       "      <th>0</th>\n",
       "      <td></td>\n",
       "      <td>7</td>\n",
       "    </tr>\n",
       "    <tr>\n",
       "      <th>1</th>\n",
       "      <td>3</td>\n",
       "      <td>5</td>\n",
       "    </tr>\n",
       "    <tr>\n",
       "      <th>2</th>\n",
       "      <td>2</td>\n",
       "      <td>6</td>\n",
       "    </tr>\n",
       "    <tr>\n",
       "      <th>3</th>\n",
       "      <td></td>\n",
       "      <td>4</td>\n",
       "    </tr>\n",
       "  </tbody>\n",
       "</table>\n",
       "</div>"
      ],
      "text/plain": [
       "   a  b\n",
       "0     7\n",
       "1  3  5\n",
       "2  2  6\n",
       "3     4"
      ]
     },
     "execution_count": 4,
     "metadata": {},
     "output_type": "execute_result"
    }
   ],
   "source": [
    "df0"
   ]
  },
  {
   "cell_type": "code",
   "execution_count": 5,
   "metadata": {
    "collapsed": false
   },
   "outputs": [],
   "source": [
    "example0 = hv.DFrame(df0,\n",
    "                     kdims=[hv.Dimension('a',values='initial'), 'b'])"
   ]
  },
  {
   "cell_type": "code",
   "execution_count": 6,
   "metadata": {
    "collapsed": false
   },
   "outputs": [
    {
     "data": {
      "text/html": [
       "<img src='data:image/png;base64,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' style='max-width:100%; margin: auto; display: block; '/>"
      ],
      "text/plain": [
       ":Table   [a]   (b)"
      ]
     },
     "execution_count": 6,
     "metadata": {},
     "output_type": "execute_result"
    }
   ],
   "source": [
    "example0.table('a','b')"
   ]
  },
  {
   "cell_type": "code",
   "execution_count": 7,
   "metadata": {
    "collapsed": false
   },
   "outputs": [
    {
     "data": {
      "text/html": [
       "<img src='data:image/png;base64,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' style='max-width:100%; margin: auto; display: block; '/>"
      ],
      "text/plain": [
       ":Bars   [a]   (b)"
      ]
     },
     "execution_count": 7,
     "metadata": {},
     "output_type": "execute_result"
    }
   ],
   "source": [
    "example0.bars('a','b')"
   ]
  },
  {
   "cell_type": "markdown",
   "metadata": {},
   "source": [
    "# problem 1"
   ]
  },
  {
   "cell_type": "markdown",
   "metadata": {},
   "source": [
    "empty string in row 0 causes a problem?"
   ]
  },
  {
   "cell_type": "code",
   "execution_count": 8,
   "metadata": {
    "collapsed": false
   },
   "outputs": [],
   "source": [
    "df1 = df0.copy()\n",
    "df1.loc[0,'a'] = ''"
   ]
  },
  {
   "cell_type": "code",
   "execution_count": 9,
   "metadata": {
    "collapsed": false
   },
   "outputs": [
    {
     "data": {
      "text/html": [
       "<div>\n",
       "<table border=\"1\" class=\"dataframe\">\n",
       "  <thead>\n",
       "    <tr style=\"text-align: right;\">\n",
       "      <th></th>\n",
       "      <th>a</th>\n",
       "      <th>b</th>\n",
       "    </tr>\n",
       "  </thead>\n",
       "  <tbody>\n",
       "    <tr>\n",
       "      <th>0</th>\n",
       "      <td></td>\n",
       "      <td>7</td>\n",
       "    </tr>\n",
       "    <tr>\n",
       "      <th>1</th>\n",
       "      <td>3</td>\n",
       "      <td>5</td>\n",
       "    </tr>\n",
       "    <tr>\n",
       "      <th>2</th>\n",
       "      <td>2</td>\n",
       "      <td>6</td>\n",
       "    </tr>\n",
       "    <tr>\n",
       "      <th>3</th>\n",
       "      <td></td>\n",
       "      <td>4</td>\n",
       "    </tr>\n",
       "  </tbody>\n",
       "</table>\n",
       "</div>"
      ],
      "text/plain": [
       "   a  b\n",
       "0     7\n",
       "1  3  5\n",
       "2  2  6\n",
       "3     4"
      ]
     },
     "execution_count": 9,
     "metadata": {},
     "output_type": "execute_result"
    }
   ],
   "source": [
    "df1"
   ]
  },
  {
   "cell_type": "code",
   "execution_count": 10,
   "metadata": {
    "collapsed": false
   },
   "outputs": [],
   "source": [
    "example1 = hv.DFrame(df1, \n",
    "                     kdims=[hv.Dimension('a',values='initial'), 'b'])"
   ]
  },
  {
   "cell_type": "code",
   "execution_count": 11,
   "metadata": {
    "collapsed": false
   },
   "outputs": [
    {
     "ename": "ValueError",
     "evalue": "'' is not in list",
     "output_type": "error",
     "traceback": [
      "\u001b[1;31m---------------------------------------------------------------------------\u001b[0m",
      "\u001b[1;31mValueError\u001b[0m                                Traceback (most recent call last)",
      "\u001b[1;32m<ipython-input-11-c710087ae9df>\u001b[0m in \u001b[0;36m<module>\u001b[1;34m()\u001b[0m\n\u001b[1;32m----> 1\u001b[1;33m \u001b[0mexample1\u001b[0m\u001b[1;33m.\u001b[0m\u001b[0mtable\u001b[0m\u001b[1;33m(\u001b[0m\u001b[1;34m'a'\u001b[0m\u001b[1;33m,\u001b[0m\u001b[1;34m'b'\u001b[0m\u001b[1;33m)\u001b[0m\u001b[1;33m\u001b[0m\u001b[0m\n\u001b[0m",
      "\u001b[1;32m/home/ceball/anaconda2.3/lib/python2.7/site-packages/holoviews/interface/pandas.pyc\u001b[0m in \u001b[0;36mtable\u001b[1;34m(self, kdims, vdims, mdims, reduce_fn, **kwargs)\u001b[0m\n\u001b[0;32m    335\u001b[0m     \u001b[1;32mdef\u001b[0m \u001b[0mtable\u001b[0m\u001b[1;33m(\u001b[0m\u001b[0mself\u001b[0m\u001b[1;33m,\u001b[0m \u001b[0mkdims\u001b[0m\u001b[1;33m,\u001b[0m \u001b[0mvdims\u001b[0m\u001b[1;33m,\u001b[0m \u001b[0mmdims\u001b[0m\u001b[1;33m=\u001b[0m\u001b[1;33m[\u001b[0m\u001b[1;33m]\u001b[0m\u001b[1;33m,\u001b[0m \u001b[0mreduce_fn\u001b[0m\u001b[1;33m=\u001b[0m\u001b[0mNone\u001b[0m\u001b[1;33m,\u001b[0m \u001b[1;33m**\u001b[0m\u001b[0mkwargs\u001b[0m\u001b[1;33m)\u001b[0m\u001b[1;33m:\u001b[0m\u001b[1;33m\u001b[0m\u001b[0m\n\u001b[0;32m    336\u001b[0m         return self._convert(kdims, vdims, mdims, reduce_fn,\n\u001b[1;32m--> 337\u001b[1;33m                              view_type=Table, **kwargs)\n\u001b[0m\u001b[0;32m    338\u001b[0m \u001b[1;33m\u001b[0m\u001b[0m\n\u001b[0;32m    339\u001b[0m     \u001b[1;32mdef\u001b[0m \u001b[0mheatmap\u001b[0m\u001b[1;33m(\u001b[0m\u001b[0mself\u001b[0m\u001b[1;33m,\u001b[0m \u001b[0mkdims\u001b[0m\u001b[1;33m,\u001b[0m \u001b[0mvdims\u001b[0m\u001b[1;33m,\u001b[0m \u001b[0mmdims\u001b[0m\u001b[1;33m=\u001b[0m\u001b[1;33m[\u001b[0m\u001b[1;33m]\u001b[0m\u001b[1;33m,\u001b[0m \u001b[0mreduce_fn\u001b[0m\u001b[1;33m=\u001b[0m\u001b[0mNone\u001b[0m\u001b[1;33m,\u001b[0m \u001b[1;33m**\u001b[0m\u001b[0mkwargs\u001b[0m\u001b[1;33m)\u001b[0m\u001b[1;33m:\u001b[0m\u001b[1;33m\u001b[0m\u001b[0m\n",
      "\u001b[1;32m/home/ceball/anaconda2.3/lib/python2.7/site-packages/holoviews/interface/pandas.pyc\u001b[0m in \u001b[0;36m_convert\u001b[1;34m(self, kdims, vdims, mdims, reduce_fn, view_type, dropna, **kwargs)\u001b[0m\n\u001b[0;32m    287\u001b[0m             \u001b[1;32melse\u001b[0m\u001b[1;33m:\u001b[0m\u001b[1;33m\u001b[0m\u001b[0m\n\u001b[0;32m    288\u001b[0m                 \u001b[0mdata\u001b[0m \u001b[1;33m=\u001b[0m \u001b[1;33m[\u001b[0m\u001b[0mnp\u001b[0m\u001b[1;33m.\u001b[0m\u001b[0marray\u001b[0m\u001b[1;33m(\u001b[0m\u001b[0mvdata\u001b[0m\u001b[1;33m[\u001b[0m\u001b[0md\u001b[0m\u001b[1;33m]\u001b[0m\u001b[1;33m)\u001b[0m \u001b[1;32mfor\u001b[0m \u001b[0md\u001b[0m \u001b[1;32min\u001b[0m \u001b[0mel_dims\u001b[0m\u001b[1;33m]\u001b[0m\u001b[1;33m\u001b[0m\u001b[0m\n\u001b[1;32m--> 289\u001b[1;33m                 \u001b[0mhmap\u001b[0m\u001b[1;33m[\u001b[0m\u001b[0mk\u001b[0m\u001b[1;33m]\u001b[0m \u001b[1;33m=\u001b[0m \u001b[0mself\u001b[0m\u001b[1;33m.\u001b[0m\u001b[0m_create_table\u001b[0m\u001b[1;33m(\u001b[0m\u001b[0mdata\u001b[0m\u001b[1;33m,\u001b[0m \u001b[1;33m**\u001b[0m\u001b[0mcreate_kwargs\u001b[0m\u001b[1;33m)\u001b[0m\u001b[1;33m\u001b[0m\u001b[0m\n\u001b[0m\u001b[0;32m    290\u001b[0m         \u001b[1;32mreturn\u001b[0m \u001b[0mhmap\u001b[0m \u001b[1;32mif\u001b[0m \u001b[0mmdims\u001b[0m \u001b[1;33m!=\u001b[0m \u001b[1;33m[\u001b[0m\u001b[1;34m'Default'\u001b[0m\u001b[1;33m]\u001b[0m \u001b[1;32melse\u001b[0m \u001b[0mhmap\u001b[0m\u001b[1;33m.\u001b[0m\u001b[0mlast\u001b[0m\u001b[1;33m\u001b[0m\u001b[0m\n\u001b[0;32m    291\u001b[0m \u001b[1;33m\u001b[0m\u001b[0m\n",
      "\u001b[1;32m/home/ceball/anaconda2.3/lib/python2.7/site-packages/holoviews/interface/pandas.pyc\u001b[0m in \u001b[0;36m_create_table\u001b[1;34m(self, data, kdims, vdims, view_type, **kwargs)\u001b[0m\n\u001b[0;32m    306\u001b[0m         inherited = dict(kdims=kdims,\n\u001b[0;32m    307\u001b[0m                          vdims=vdims, label=self.label)\n\u001b[1;32m--> 308\u001b[1;33m         \u001b[1;32mreturn\u001b[0m \u001b[0mview_type\u001b[0m\u001b[1;33m(\u001b[0m\u001b[0mzip\u001b[0m\u001b[1;33m(\u001b[0m\u001b[0mkeys\u001b[0m\u001b[1;33m,\u001b[0m \u001b[0mvalues\u001b[0m\u001b[1;33m)\u001b[0m\u001b[1;33m,\u001b[0m \u001b[1;33m**\u001b[0m\u001b[0mdict\u001b[0m\u001b[1;33m(\u001b[0m\u001b[0minherited\u001b[0m\u001b[1;33m,\u001b[0m \u001b[1;33m**\u001b[0m\u001b[0mkwargs\u001b[0m\u001b[1;33m)\u001b[0m\u001b[1;33m)\u001b[0m\u001b[1;33m\u001b[0m\u001b[0m\n\u001b[0m\u001b[0;32m    309\u001b[0m \u001b[1;33m\u001b[0m\u001b[0m\n\u001b[0;32m    310\u001b[0m \u001b[1;33m\u001b[0m\u001b[0m\n",
      "\u001b[1;32m/home/ceball/anaconda2.3/lib/python2.7/site-packages/holoviews/core/element.pyc\u001b[0m in \u001b[0;36m__init__\u001b[1;34m(self, data, **params)\u001b[0m\n\u001b[0;32m    213\u001b[0m         \u001b[1;32melif\u001b[0m \u001b[0misinstance\u001b[0m\u001b[1;33m(\u001b[0m\u001b[0mdata\u001b[0m\u001b[1;33m,\u001b[0m \u001b[0mlist\u001b[0m\u001b[1;33m)\u001b[0m \u001b[1;32mand\u001b[0m \u001b[0mall\u001b[0m\u001b[1;33m(\u001b[0m\u001b[0mnp\u001b[0m\u001b[1;33m.\u001b[0m\u001b[0misscalar\u001b[0m\u001b[1;33m(\u001b[0m\u001b[0mel\u001b[0m\u001b[1;33m)\u001b[0m \u001b[1;32mfor\u001b[0m \u001b[0mel\u001b[0m \u001b[1;32min\u001b[0m \u001b[0mdata\u001b[0m\u001b[1;33m)\u001b[0m\u001b[1;33m:\u001b[0m\u001b[1;33m\u001b[0m\u001b[0m\n\u001b[0;32m    214\u001b[0m             \u001b[0mdata\u001b[0m \u001b[1;33m=\u001b[0m \u001b[0mOrderedDict\u001b[0m\u001b[1;33m(\u001b[0m\u001b[0mlist\u001b[0m\u001b[1;33m(\u001b[0m\u001b[1;33m(\u001b[0m\u001b[1;33m(\u001b[0m\u001b[0mk\u001b[0m\u001b[1;33m,\u001b[0m\u001b[1;33m)\u001b[0m\u001b[1;33m,\u001b[0m \u001b[0mv\u001b[0m\u001b[1;33m)\u001b[0m \u001b[1;32mfor\u001b[0m \u001b[0mk\u001b[0m\u001b[1;33m,\u001b[0m \u001b[0mv\u001b[0m \u001b[1;32min\u001b[0m \u001b[0menumerate\u001b[0m\u001b[1;33m(\u001b[0m\u001b[0mdata\u001b[0m\u001b[1;33m)\u001b[0m\u001b[1;33m)\u001b[0m\u001b[1;33m)\u001b[0m\u001b[1;33m\u001b[0m\u001b[0m\n\u001b[1;32m--> 215\u001b[1;33m         \u001b[0msuper\u001b[0m\u001b[1;33m(\u001b[0m\u001b[0mNdElement\u001b[0m\u001b[1;33m,\u001b[0m \u001b[0mself\u001b[0m\u001b[1;33m)\u001b[0m\u001b[1;33m.\u001b[0m\u001b[0m__init__\u001b[0m\u001b[1;33m(\u001b[0m\u001b[0mdata\u001b[0m\u001b[1;33m,\u001b[0m \u001b[1;33m**\u001b[0m\u001b[0mparams\u001b[0m\u001b[1;33m)\u001b[0m\u001b[1;33m\u001b[0m\u001b[0m\n\u001b[0m\u001b[0;32m    216\u001b[0m \u001b[1;33m\u001b[0m\u001b[0m\n\u001b[0;32m    217\u001b[0m \u001b[1;33m\u001b[0m\u001b[0m\n",
      "\u001b[1;32m/home/ceball/anaconda2.3/lib/python2.7/site-packages/holoviews/core/element.pyc\u001b[0m in \u001b[0;36m__init__\u001b[1;34m(self, data, **params)\u001b[0m\n\u001b[0;32m     49\u001b[0m             \u001b[0melement\u001b[0m \u001b[1;33m=\u001b[0m \u001b[0mdata\u001b[0m\u001b[1;33m\u001b[0m\u001b[0m\n\u001b[0;32m     50\u001b[0m             \u001b[0mdata\u001b[0m \u001b[1;33m=\u001b[0m \u001b[1;33m[\u001b[0m\u001b[1;33m]\u001b[0m\u001b[1;33m\u001b[0m\u001b[0m\n\u001b[1;32m---> 51\u001b[1;33m         \u001b[0msuper\u001b[0m\u001b[1;33m(\u001b[0m\u001b[0mElement\u001b[0m\u001b[1;33m,\u001b[0m \u001b[0mself\u001b[0m\u001b[1;33m)\u001b[0m\u001b[1;33m.\u001b[0m\u001b[0m__init__\u001b[0m\u001b[1;33m(\u001b[0m\u001b[0mdata\u001b[0m\u001b[1;33m,\u001b[0m \u001b[1;33m**\u001b[0m\u001b[0mparams\u001b[0m\u001b[1;33m)\u001b[0m\u001b[1;33m\u001b[0m\u001b[0m\n\u001b[0m\u001b[0;32m     52\u001b[0m         \u001b[1;32mif\u001b[0m \u001b[0mconvert\u001b[0m\u001b[1;33m:\u001b[0m\u001b[1;33m\u001b[0m\u001b[0m\n\u001b[0;32m     53\u001b[0m             \u001b[0mself\u001b[0m\u001b[1;33m.\u001b[0m\u001b[0mdata\u001b[0m \u001b[1;33m=\u001b[0m \u001b[0mself\u001b[0m\u001b[1;33m.\u001b[0m\u001b[0m_convert_element\u001b[0m\u001b[1;33m(\u001b[0m\u001b[0melement\u001b[0m\u001b[1;33m)\u001b[0m\u001b[1;33m\u001b[0m\u001b[0m\n",
      "\u001b[1;32m/home/ceball/anaconda2.3/lib/python2.7/site-packages/holoviews/core/ndmapping.pyc\u001b[0m in \u001b[0;36m__init__\u001b[1;34m(self, initial_items, **params)\u001b[0m\n\u001b[0;32m    119\u001b[0m             \u001b[0mself\u001b[0m\u001b[1;33m.\u001b[0m\u001b[0m_resort\u001b[0m\u001b[1;33m(\u001b[0m\u001b[1;33m)\u001b[0m\u001b[1;33m\u001b[0m\u001b[0m\n\u001b[0;32m    120\u001b[0m         \u001b[1;32melif\u001b[0m \u001b[0minitial_items\u001b[0m \u001b[1;32mis\u001b[0m \u001b[1;32mnot\u001b[0m \u001b[0mNone\u001b[0m\u001b[1;33m:\u001b[0m\u001b[1;33m\u001b[0m\u001b[0m\n\u001b[1;32m--> 121\u001b[1;33m             \u001b[0mself\u001b[0m\u001b[1;33m.\u001b[0m\u001b[0mupdate\u001b[0m\u001b[1;33m(\u001b[0m\u001b[0mOrderedDict\u001b[0m\u001b[1;33m(\u001b[0m\u001b[0minitial_items\u001b[0m\u001b[1;33m)\u001b[0m\u001b[1;33m)\u001b[0m\u001b[1;33m\u001b[0m\u001b[0m\n\u001b[0m\u001b[0;32m    122\u001b[0m         \u001b[0mself\u001b[0m\u001b[1;33m.\u001b[0m\u001b[0m_instantiated\u001b[0m \u001b[1;33m=\u001b[0m \u001b[0mTrue\u001b[0m\u001b[1;33m\u001b[0m\u001b[0m\n\u001b[0;32m    123\u001b[0m \u001b[1;33m\u001b[0m\u001b[0m\n",
      "\u001b[1;32m/home/ceball/anaconda2.3/lib/python2.7/site-packages/holoviews/core/ndmapping.pyc\u001b[0m in \u001b[0;36mupdate\u001b[1;34m(self, other)\u001b[0m\n\u001b[0;32m    450\u001b[0m         \u001b[1;32mfor\u001b[0m \u001b[0mkey\u001b[0m\u001b[1;33m,\u001b[0m \u001b[0mdata\u001b[0m \u001b[1;32min\u001b[0m \u001b[0mother\u001b[0m\u001b[1;33m.\u001b[0m\u001b[0mitems\u001b[0m\u001b[1;33m(\u001b[0m\u001b[1;33m)\u001b[0m\u001b[1;33m:\u001b[0m\u001b[1;33m\u001b[0m\u001b[0m\n\u001b[0;32m    451\u001b[0m             \u001b[0mself\u001b[0m\u001b[1;33m.\u001b[0m\u001b[0m_add_item\u001b[0m\u001b[1;33m(\u001b[0m\u001b[0mkey\u001b[0m\u001b[1;33m,\u001b[0m \u001b[0mdata\u001b[0m\u001b[1;33m,\u001b[0m \u001b[0msort\u001b[0m\u001b[1;33m=\u001b[0m\u001b[0mFalse\u001b[0m\u001b[1;33m)\u001b[0m\u001b[1;33m\u001b[0m\u001b[0m\n\u001b[1;32m--> 452\u001b[1;33m         \u001b[0mself\u001b[0m\u001b[1;33m.\u001b[0m\u001b[0m_resort\u001b[0m\u001b[1;33m(\u001b[0m\u001b[1;33m)\u001b[0m\u001b[1;33m\u001b[0m\u001b[0m\n\u001b[0m\u001b[0;32m    453\u001b[0m \u001b[1;33m\u001b[0m\u001b[0m\n\u001b[0;32m    454\u001b[0m \u001b[1;33m\u001b[0m\u001b[0m\n",
      "\u001b[1;32m/home/ceball/anaconda2.3/lib/python2.7/site-packages/holoviews/core/ndmapping.pyc\u001b[0m in \u001b[0;36m_resort\u001b[1;34m(self)\u001b[0m\n\u001b[0;32m    240\u001b[0m             resorted = dimension_sort(self.data, self.kdims,\n\u001b[0;32m    241\u001b[0m                                       \u001b[0mself\u001b[0m\u001b[1;33m.\u001b[0m\u001b[0m_cached_categorical\u001b[0m\u001b[1;33m,\u001b[0m\u001b[1;33m\u001b[0m\u001b[0m\n\u001b[1;32m--> 242\u001b[1;33m                                       self._cached_index_values)\n\u001b[0m\u001b[0;32m    243\u001b[0m             \u001b[0mself\u001b[0m\u001b[1;33m.\u001b[0m\u001b[0mdata\u001b[0m \u001b[1;33m=\u001b[0m \u001b[0mOrderedDict\u001b[0m\u001b[1;33m(\u001b[0m\u001b[0mresorted\u001b[0m\u001b[1;33m)\u001b[0m\u001b[1;33m\u001b[0m\u001b[0m\n\u001b[0;32m    244\u001b[0m \u001b[1;33m\u001b[0m\u001b[0m\n",
      "\u001b[1;32m/home/ceball/anaconda2.3/lib/python2.7/site-packages/holoviews/core/util.pyc\u001b[0m in \u001b[0;36mdimension_sort\u001b[1;34m(odict, dimensions, categorical, cached_values)\u001b[0m\n\u001b[0;32m    404\u001b[0m         \u001b[1;32mreturn\u001b[0m \u001b[0mpython2sort\u001b[0m\u001b[1;33m(\u001b[0m\u001b[0modict\u001b[0m\u001b[1;33m.\u001b[0m\u001b[0mitems\u001b[0m\u001b[1;33m(\u001b[0m\u001b[1;33m)\u001b[0m\u001b[1;33m,\u001b[0m \u001b[1;33m**\u001b[0m\u001b[0msortkws\u001b[0m\u001b[1;33m)\u001b[0m\u001b[1;33m\u001b[0m\u001b[0m\n\u001b[0;32m    405\u001b[0m     \u001b[1;32melse\u001b[0m\u001b[1;33m:\u001b[0m\u001b[1;33m\u001b[0m\u001b[0m\n\u001b[1;32m--> 406\u001b[1;33m         \u001b[1;32mreturn\u001b[0m \u001b[0msorted\u001b[0m\u001b[1;33m(\u001b[0m\u001b[0modict\u001b[0m\u001b[1;33m.\u001b[0m\u001b[0mitems\u001b[0m\u001b[1;33m(\u001b[0m\u001b[1;33m)\u001b[0m\u001b[1;33m,\u001b[0m \u001b[1;33m**\u001b[0m\u001b[0msortkws\u001b[0m\u001b[1;33m)\u001b[0m\u001b[1;33m\u001b[0m\u001b[0m\n\u001b[0m\u001b[0;32m    407\u001b[0m \u001b[1;33m\u001b[0m\u001b[0m\n\u001b[0;32m    408\u001b[0m \u001b[1;33m\u001b[0m\u001b[0m\n",
      "\u001b[1;32m/home/ceball/anaconda2.3/lib/python2.7/site-packages/holoviews/core/util.pyc\u001b[0m in \u001b[0;36m<lambda>\u001b[1;34m(x)\u001b[0m\n\u001b[0;32m    400\u001b[0m        sortkws['key'] = lambda x: tuple(cached_values[d.name].index(x[0][i])\n\u001b[0;32m    401\u001b[0m                                         \u001b[1;32mif\u001b[0m \u001b[0md\u001b[0m\u001b[1;33m.\u001b[0m\u001b[0mvalues\u001b[0m \u001b[1;32melse\u001b[0m \u001b[0mx\u001b[0m\u001b[1;33m[\u001b[0m\u001b[1;36m0\u001b[0m\u001b[1;33m]\u001b[0m\u001b[1;33m[\u001b[0m\u001b[0mi\u001b[0m\u001b[1;33m]\u001b[0m\u001b[1;33m\u001b[0m\u001b[0m\n\u001b[1;32m--> 402\u001b[1;33m                                         for i, d in enumerate(dimensions))\n\u001b[0m\u001b[0;32m    403\u001b[0m     \u001b[1;32mif\u001b[0m \u001b[0msys\u001b[0m\u001b[1;33m.\u001b[0m\u001b[0mversion_info\u001b[0m\u001b[1;33m.\u001b[0m\u001b[0mmajor\u001b[0m \u001b[1;33m==\u001b[0m \u001b[1;36m3\u001b[0m\u001b[1;33m:\u001b[0m\u001b[1;33m\u001b[0m\u001b[0m\n\u001b[0;32m    404\u001b[0m         \u001b[1;32mreturn\u001b[0m \u001b[0mpython2sort\u001b[0m\u001b[1;33m(\u001b[0m\u001b[0modict\u001b[0m\u001b[1;33m.\u001b[0m\u001b[0mitems\u001b[0m\u001b[1;33m(\u001b[0m\u001b[1;33m)\u001b[0m\u001b[1;33m,\u001b[0m \u001b[1;33m**\u001b[0m\u001b[0msortkws\u001b[0m\u001b[1;33m)\u001b[0m\u001b[1;33m\u001b[0m\u001b[0m\n",
      "\u001b[1;32m/home/ceball/anaconda2.3/lib/python2.7/site-packages/holoviews/core/util.pyc\u001b[0m in \u001b[0;36m<genexpr>\u001b[1;34m((i, d))\u001b[0m\n\u001b[0;32m    400\u001b[0m        sortkws['key'] = lambda x: tuple(cached_values[d.name].index(x[0][i])\n\u001b[0;32m    401\u001b[0m                                         \u001b[1;32mif\u001b[0m \u001b[0md\u001b[0m\u001b[1;33m.\u001b[0m\u001b[0mvalues\u001b[0m \u001b[1;32melse\u001b[0m \u001b[0mx\u001b[0m\u001b[1;33m[\u001b[0m\u001b[1;36m0\u001b[0m\u001b[1;33m]\u001b[0m\u001b[1;33m[\u001b[0m\u001b[0mi\u001b[0m\u001b[1;33m]\u001b[0m\u001b[1;33m\u001b[0m\u001b[0m\n\u001b[1;32m--> 402\u001b[1;33m                                         for i, d in enumerate(dimensions))\n\u001b[0m\u001b[0;32m    403\u001b[0m     \u001b[1;32mif\u001b[0m \u001b[0msys\u001b[0m\u001b[1;33m.\u001b[0m\u001b[0mversion_info\u001b[0m\u001b[1;33m.\u001b[0m\u001b[0mmajor\u001b[0m \u001b[1;33m==\u001b[0m \u001b[1;36m3\u001b[0m\u001b[1;33m:\u001b[0m\u001b[1;33m\u001b[0m\u001b[0m\n\u001b[0;32m    404\u001b[0m         \u001b[1;32mreturn\u001b[0m \u001b[0mpython2sort\u001b[0m\u001b[1;33m(\u001b[0m\u001b[0modict\u001b[0m\u001b[1;33m.\u001b[0m\u001b[0mitems\u001b[0m\u001b[1;33m(\u001b[0m\u001b[1;33m)\u001b[0m\u001b[1;33m,\u001b[0m \u001b[1;33m**\u001b[0m\u001b[0msortkws\u001b[0m\u001b[1;33m)\u001b[0m\u001b[1;33m\u001b[0m\u001b[0m\n",
      "\u001b[1;31mValueError\u001b[0m: '' is not in list"
     ]
    }
   ],
   "source": [
    "example1.table('a','b')"
   ]
  },
  {
   "cell_type": "markdown",
   "metadata": {},
   "source": [
    "# problem 2"
   ]
  },
  {
   "cell_type": "markdown",
   "metadata": {},
   "source": [
    "doesn't work with numbers?"
   ]
  },
  {
   "cell_type": "code",
   "execution_count": 12,
   "metadata": {
    "collapsed": true
   },
   "outputs": [],
   "source": [
    "df2 = pd.DataFrame({'a':[4,2,3,1], \n",
    "                    'b':[7,5,6,4]})"
   ]
  },
  {
   "cell_type": "code",
   "execution_count": 13,
   "metadata": {
    "collapsed": false
   },
   "outputs": [
    {
     "data": {
      "text/html": [
       "<div>\n",
       "<table border=\"1\" class=\"dataframe\">\n",
       "  <thead>\n",
       "    <tr style=\"text-align: right;\">\n",
       "      <th></th>\n",
       "      <th>a</th>\n",
       "      <th>b</th>\n",
       "    </tr>\n",
       "  </thead>\n",
       "  <tbody>\n",
       "    <tr>\n",
       "      <th>0</th>\n",
       "      <td>4</td>\n",
       "      <td>7</td>\n",
       "    </tr>\n",
       "    <tr>\n",
       "      <th>1</th>\n",
       "      <td>2</td>\n",
       "      <td>5</td>\n",
       "    </tr>\n",
       "    <tr>\n",
       "      <th>2</th>\n",
       "      <td>3</td>\n",
       "      <td>6</td>\n",
       "    </tr>\n",
       "    <tr>\n",
       "      <th>3</th>\n",
       "      <td>1</td>\n",
       "      <td>4</td>\n",
       "    </tr>\n",
       "  </tbody>\n",
       "</table>\n",
       "</div>"
      ],
      "text/plain": [
       "   a  b\n",
       "0  4  7\n",
       "1  2  5\n",
       "2  3  6\n",
       "3  1  4"
      ]
     },
     "execution_count": 13,
     "metadata": {},
     "output_type": "execute_result"
    }
   ],
   "source": [
    "df2"
   ]
  },
  {
   "cell_type": "code",
   "execution_count": 14,
   "metadata": {
    "collapsed": true
   },
   "outputs": [],
   "source": [
    "example2 = hv.DFrame(df2, \n",
    "                     kdims=[hv.Dimension('a',values='initial'), 'b'])"
   ]
  },
  {
   "cell_type": "code",
   "execution_count": 15,
   "metadata": {
    "collapsed": false
   },
   "outputs": [
    {
     "ename": "TypeError",
     "evalue": "'in <string>' requires string as left operand, not numpy.int64",
     "output_type": "error",
     "traceback": [
      "\u001b[1;31m---------------------------------------------------------------------------\u001b[0m",
      "\u001b[1;31mTypeError\u001b[0m                                 Traceback (most recent call last)",
      "\u001b[1;32m<ipython-input-15-93b938390acf>\u001b[0m in \u001b[0;36m<module>\u001b[1;34m()\u001b[0m\n\u001b[1;32m----> 1\u001b[1;33m \u001b[0mexample2\u001b[0m\u001b[1;33m.\u001b[0m\u001b[0mtable\u001b[0m\u001b[1;33m(\u001b[0m\u001b[1;34m'a'\u001b[0m\u001b[1;33m,\u001b[0m\u001b[1;34m'b'\u001b[0m\u001b[1;33m)\u001b[0m\u001b[1;33m\u001b[0m\u001b[0m\n\u001b[0m",
      "\u001b[1;32m/home/ceball/anaconda2.3/lib/python2.7/site-packages/holoviews/interface/pandas.pyc\u001b[0m in \u001b[0;36mtable\u001b[1;34m(self, kdims, vdims, mdims, reduce_fn, **kwargs)\u001b[0m\n\u001b[0;32m    335\u001b[0m     \u001b[1;32mdef\u001b[0m \u001b[0mtable\u001b[0m\u001b[1;33m(\u001b[0m\u001b[0mself\u001b[0m\u001b[1;33m,\u001b[0m \u001b[0mkdims\u001b[0m\u001b[1;33m,\u001b[0m \u001b[0mvdims\u001b[0m\u001b[1;33m,\u001b[0m \u001b[0mmdims\u001b[0m\u001b[1;33m=\u001b[0m\u001b[1;33m[\u001b[0m\u001b[1;33m]\u001b[0m\u001b[1;33m,\u001b[0m \u001b[0mreduce_fn\u001b[0m\u001b[1;33m=\u001b[0m\u001b[0mNone\u001b[0m\u001b[1;33m,\u001b[0m \u001b[1;33m**\u001b[0m\u001b[0mkwargs\u001b[0m\u001b[1;33m)\u001b[0m\u001b[1;33m:\u001b[0m\u001b[1;33m\u001b[0m\u001b[0m\n\u001b[0;32m    336\u001b[0m         return self._convert(kdims, vdims, mdims, reduce_fn,\n\u001b[1;32m--> 337\u001b[1;33m                              view_type=Table, **kwargs)\n\u001b[0m\u001b[0;32m    338\u001b[0m \u001b[1;33m\u001b[0m\u001b[0m\n\u001b[0;32m    339\u001b[0m     \u001b[1;32mdef\u001b[0m \u001b[0mheatmap\u001b[0m\u001b[1;33m(\u001b[0m\u001b[0mself\u001b[0m\u001b[1;33m,\u001b[0m \u001b[0mkdims\u001b[0m\u001b[1;33m,\u001b[0m \u001b[0mvdims\u001b[0m\u001b[1;33m,\u001b[0m \u001b[0mmdims\u001b[0m\u001b[1;33m=\u001b[0m\u001b[1;33m[\u001b[0m\u001b[1;33m]\u001b[0m\u001b[1;33m,\u001b[0m \u001b[0mreduce_fn\u001b[0m\u001b[1;33m=\u001b[0m\u001b[0mNone\u001b[0m\u001b[1;33m,\u001b[0m \u001b[1;33m**\u001b[0m\u001b[0mkwargs\u001b[0m\u001b[1;33m)\u001b[0m\u001b[1;33m:\u001b[0m\u001b[1;33m\u001b[0m\u001b[0m\n",
      "\u001b[1;32m/home/ceball/anaconda2.3/lib/python2.7/site-packages/holoviews/interface/pandas.pyc\u001b[0m in \u001b[0;36m_convert\u001b[1;34m(self, kdims, vdims, mdims, reduce_fn, view_type, dropna, **kwargs)\u001b[0m\n\u001b[0;32m    287\u001b[0m             \u001b[1;32melse\u001b[0m\u001b[1;33m:\u001b[0m\u001b[1;33m\u001b[0m\u001b[0m\n\u001b[0;32m    288\u001b[0m                 \u001b[0mdata\u001b[0m \u001b[1;33m=\u001b[0m \u001b[1;33m[\u001b[0m\u001b[0mnp\u001b[0m\u001b[1;33m.\u001b[0m\u001b[0marray\u001b[0m\u001b[1;33m(\u001b[0m\u001b[0mvdata\u001b[0m\u001b[1;33m[\u001b[0m\u001b[0md\u001b[0m\u001b[1;33m]\u001b[0m\u001b[1;33m)\u001b[0m \u001b[1;32mfor\u001b[0m \u001b[0md\u001b[0m \u001b[1;32min\u001b[0m \u001b[0mel_dims\u001b[0m\u001b[1;33m]\u001b[0m\u001b[1;33m\u001b[0m\u001b[0m\n\u001b[1;32m--> 289\u001b[1;33m                 \u001b[0mhmap\u001b[0m\u001b[1;33m[\u001b[0m\u001b[0mk\u001b[0m\u001b[1;33m]\u001b[0m \u001b[1;33m=\u001b[0m \u001b[0mself\u001b[0m\u001b[1;33m.\u001b[0m\u001b[0m_create_table\u001b[0m\u001b[1;33m(\u001b[0m\u001b[0mdata\u001b[0m\u001b[1;33m,\u001b[0m \u001b[1;33m**\u001b[0m\u001b[0mcreate_kwargs\u001b[0m\u001b[1;33m)\u001b[0m\u001b[1;33m\u001b[0m\u001b[0m\n\u001b[0m\u001b[0;32m    290\u001b[0m         \u001b[1;32mreturn\u001b[0m \u001b[0mhmap\u001b[0m \u001b[1;32mif\u001b[0m \u001b[0mmdims\u001b[0m \u001b[1;33m!=\u001b[0m \u001b[1;33m[\u001b[0m\u001b[1;34m'Default'\u001b[0m\u001b[1;33m]\u001b[0m \u001b[1;32melse\u001b[0m \u001b[0mhmap\u001b[0m\u001b[1;33m.\u001b[0m\u001b[0mlast\u001b[0m\u001b[1;33m\u001b[0m\u001b[0m\n\u001b[0;32m    291\u001b[0m \u001b[1;33m\u001b[0m\u001b[0m\n",
      "\u001b[1;32m/home/ceball/anaconda2.3/lib/python2.7/site-packages/holoviews/interface/pandas.pyc\u001b[0m in \u001b[0;36m_create_table\u001b[1;34m(self, data, kdims, vdims, view_type, **kwargs)\u001b[0m\n\u001b[0;32m    306\u001b[0m         inherited = dict(kdims=kdims,\n\u001b[0;32m    307\u001b[0m                          vdims=vdims, label=self.label)\n\u001b[1;32m--> 308\u001b[1;33m         \u001b[1;32mreturn\u001b[0m \u001b[0mview_type\u001b[0m\u001b[1;33m(\u001b[0m\u001b[0mzip\u001b[0m\u001b[1;33m(\u001b[0m\u001b[0mkeys\u001b[0m\u001b[1;33m,\u001b[0m \u001b[0mvalues\u001b[0m\u001b[1;33m)\u001b[0m\u001b[1;33m,\u001b[0m \u001b[1;33m**\u001b[0m\u001b[0mdict\u001b[0m\u001b[1;33m(\u001b[0m\u001b[0minherited\u001b[0m\u001b[1;33m,\u001b[0m \u001b[1;33m**\u001b[0m\u001b[0mkwargs\u001b[0m\u001b[1;33m)\u001b[0m\u001b[1;33m)\u001b[0m\u001b[1;33m\u001b[0m\u001b[0m\n\u001b[0m\u001b[0;32m    309\u001b[0m \u001b[1;33m\u001b[0m\u001b[0m\n\u001b[0;32m    310\u001b[0m \u001b[1;33m\u001b[0m\u001b[0m\n",
      "\u001b[1;32m/home/ceball/anaconda2.3/lib/python2.7/site-packages/holoviews/core/element.pyc\u001b[0m in \u001b[0;36m__init__\u001b[1;34m(self, data, **params)\u001b[0m\n\u001b[0;32m    213\u001b[0m         \u001b[1;32melif\u001b[0m \u001b[0misinstance\u001b[0m\u001b[1;33m(\u001b[0m\u001b[0mdata\u001b[0m\u001b[1;33m,\u001b[0m \u001b[0mlist\u001b[0m\u001b[1;33m)\u001b[0m \u001b[1;32mand\u001b[0m \u001b[0mall\u001b[0m\u001b[1;33m(\u001b[0m\u001b[0mnp\u001b[0m\u001b[1;33m.\u001b[0m\u001b[0misscalar\u001b[0m\u001b[1;33m(\u001b[0m\u001b[0mel\u001b[0m\u001b[1;33m)\u001b[0m \u001b[1;32mfor\u001b[0m \u001b[0mel\u001b[0m \u001b[1;32min\u001b[0m \u001b[0mdata\u001b[0m\u001b[1;33m)\u001b[0m\u001b[1;33m:\u001b[0m\u001b[1;33m\u001b[0m\u001b[0m\n\u001b[0;32m    214\u001b[0m             \u001b[0mdata\u001b[0m \u001b[1;33m=\u001b[0m \u001b[0mOrderedDict\u001b[0m\u001b[1;33m(\u001b[0m\u001b[0mlist\u001b[0m\u001b[1;33m(\u001b[0m\u001b[1;33m(\u001b[0m\u001b[1;33m(\u001b[0m\u001b[0mk\u001b[0m\u001b[1;33m,\u001b[0m\u001b[1;33m)\u001b[0m\u001b[1;33m,\u001b[0m \u001b[0mv\u001b[0m\u001b[1;33m)\u001b[0m \u001b[1;32mfor\u001b[0m \u001b[0mk\u001b[0m\u001b[1;33m,\u001b[0m \u001b[0mv\u001b[0m \u001b[1;32min\u001b[0m \u001b[0menumerate\u001b[0m\u001b[1;33m(\u001b[0m\u001b[0mdata\u001b[0m\u001b[1;33m)\u001b[0m\u001b[1;33m)\u001b[0m\u001b[1;33m)\u001b[0m\u001b[1;33m\u001b[0m\u001b[0m\n\u001b[1;32m--> 215\u001b[1;33m         \u001b[0msuper\u001b[0m\u001b[1;33m(\u001b[0m\u001b[0mNdElement\u001b[0m\u001b[1;33m,\u001b[0m \u001b[0mself\u001b[0m\u001b[1;33m)\u001b[0m\u001b[1;33m.\u001b[0m\u001b[0m__init__\u001b[0m\u001b[1;33m(\u001b[0m\u001b[0mdata\u001b[0m\u001b[1;33m,\u001b[0m \u001b[1;33m**\u001b[0m\u001b[0mparams\u001b[0m\u001b[1;33m)\u001b[0m\u001b[1;33m\u001b[0m\u001b[0m\n\u001b[0m\u001b[0;32m    216\u001b[0m \u001b[1;33m\u001b[0m\u001b[0m\n\u001b[0;32m    217\u001b[0m \u001b[1;33m\u001b[0m\u001b[0m\n",
      "\u001b[1;32m/home/ceball/anaconda2.3/lib/python2.7/site-packages/holoviews/core/element.pyc\u001b[0m in \u001b[0;36m__init__\u001b[1;34m(self, data, **params)\u001b[0m\n\u001b[0;32m     49\u001b[0m             \u001b[0melement\u001b[0m \u001b[1;33m=\u001b[0m \u001b[0mdata\u001b[0m\u001b[1;33m\u001b[0m\u001b[0m\n\u001b[0;32m     50\u001b[0m             \u001b[0mdata\u001b[0m \u001b[1;33m=\u001b[0m \u001b[1;33m[\u001b[0m\u001b[1;33m]\u001b[0m\u001b[1;33m\u001b[0m\u001b[0m\n\u001b[1;32m---> 51\u001b[1;33m         \u001b[0msuper\u001b[0m\u001b[1;33m(\u001b[0m\u001b[0mElement\u001b[0m\u001b[1;33m,\u001b[0m \u001b[0mself\u001b[0m\u001b[1;33m)\u001b[0m\u001b[1;33m.\u001b[0m\u001b[0m__init__\u001b[0m\u001b[1;33m(\u001b[0m\u001b[0mdata\u001b[0m\u001b[1;33m,\u001b[0m \u001b[1;33m**\u001b[0m\u001b[0mparams\u001b[0m\u001b[1;33m)\u001b[0m\u001b[1;33m\u001b[0m\u001b[0m\n\u001b[0m\u001b[0;32m     52\u001b[0m         \u001b[1;32mif\u001b[0m \u001b[0mconvert\u001b[0m\u001b[1;33m:\u001b[0m\u001b[1;33m\u001b[0m\u001b[0m\n\u001b[0;32m     53\u001b[0m             \u001b[0mself\u001b[0m\u001b[1;33m.\u001b[0m\u001b[0mdata\u001b[0m \u001b[1;33m=\u001b[0m \u001b[0mself\u001b[0m\u001b[1;33m.\u001b[0m\u001b[0m_convert_element\u001b[0m\u001b[1;33m(\u001b[0m\u001b[0melement\u001b[0m\u001b[1;33m)\u001b[0m\u001b[1;33m\u001b[0m\u001b[0m\n",
      "\u001b[1;32m/home/ceball/anaconda2.3/lib/python2.7/site-packages/holoviews/core/ndmapping.pyc\u001b[0m in \u001b[0;36m__init__\u001b[1;34m(self, initial_items, **params)\u001b[0m\n\u001b[0;32m    119\u001b[0m             \u001b[0mself\u001b[0m\u001b[1;33m.\u001b[0m\u001b[0m_resort\u001b[0m\u001b[1;33m(\u001b[0m\u001b[1;33m)\u001b[0m\u001b[1;33m\u001b[0m\u001b[0m\n\u001b[0;32m    120\u001b[0m         \u001b[1;32melif\u001b[0m \u001b[0minitial_items\u001b[0m \u001b[1;32mis\u001b[0m \u001b[1;32mnot\u001b[0m \u001b[0mNone\u001b[0m\u001b[1;33m:\u001b[0m\u001b[1;33m\u001b[0m\u001b[0m\n\u001b[1;32m--> 121\u001b[1;33m             \u001b[0mself\u001b[0m\u001b[1;33m.\u001b[0m\u001b[0mupdate\u001b[0m\u001b[1;33m(\u001b[0m\u001b[0mOrderedDict\u001b[0m\u001b[1;33m(\u001b[0m\u001b[0minitial_items\u001b[0m\u001b[1;33m)\u001b[0m\u001b[1;33m)\u001b[0m\u001b[1;33m\u001b[0m\u001b[0m\n\u001b[0m\u001b[0;32m    122\u001b[0m         \u001b[0mself\u001b[0m\u001b[1;33m.\u001b[0m\u001b[0m_instantiated\u001b[0m \u001b[1;33m=\u001b[0m \u001b[0mTrue\u001b[0m\u001b[1;33m\u001b[0m\u001b[0m\n\u001b[0;32m    123\u001b[0m \u001b[1;33m\u001b[0m\u001b[0m\n",
      "\u001b[1;32m/home/ceball/anaconda2.3/lib/python2.7/site-packages/holoviews/core/ndmapping.pyc\u001b[0m in \u001b[0;36mupdate\u001b[1;34m(self, other)\u001b[0m\n\u001b[0;32m    449\u001b[0m             \u001b[0mother\u001b[0m \u001b[1;33m=\u001b[0m \u001b[0mother\u001b[0m\u001b[1;33m.\u001b[0m\u001b[0mdata\u001b[0m\u001b[1;33m\u001b[0m\u001b[0m\n\u001b[0;32m    450\u001b[0m         \u001b[1;32mfor\u001b[0m \u001b[0mkey\u001b[0m\u001b[1;33m,\u001b[0m \u001b[0mdata\u001b[0m \u001b[1;32min\u001b[0m \u001b[0mother\u001b[0m\u001b[1;33m.\u001b[0m\u001b[0mitems\u001b[0m\u001b[1;33m(\u001b[0m\u001b[1;33m)\u001b[0m\u001b[1;33m:\u001b[0m\u001b[1;33m\u001b[0m\u001b[0m\n\u001b[1;32m--> 451\u001b[1;33m             \u001b[0mself\u001b[0m\u001b[1;33m.\u001b[0m\u001b[0m_add_item\u001b[0m\u001b[1;33m(\u001b[0m\u001b[0mkey\u001b[0m\u001b[1;33m,\u001b[0m \u001b[0mdata\u001b[0m\u001b[1;33m,\u001b[0m \u001b[0msort\u001b[0m\u001b[1;33m=\u001b[0m\u001b[0mFalse\u001b[0m\u001b[1;33m)\u001b[0m\u001b[1;33m\u001b[0m\u001b[0m\n\u001b[0m\u001b[0;32m    452\u001b[0m         \u001b[0mself\u001b[0m\u001b[1;33m.\u001b[0m\u001b[0m_resort\u001b[0m\u001b[1;33m(\u001b[0m\u001b[1;33m)\u001b[0m\u001b[1;33m\u001b[0m\u001b[0m\n\u001b[0;32m    453\u001b[0m \u001b[1;33m\u001b[0m\u001b[0m\n",
      "\u001b[1;32m/home/ceball/anaconda2.3/lib/python2.7/site-packages/holoviews/element/tabular.pyc\u001b[0m in \u001b[0;36m_add_item\u001b[1;34m(self, key, value, sort)\u001b[0m\n\u001b[0;32m    174\u001b[0m                 \u001b[1;32mraise\u001b[0m \u001b[0mException\u001b[0m\u001b[1;33m(\u001b[0m\u001b[1;34m\"Input ItemTables dimensions must match value dimensions.\"\u001b[0m\u001b[1;33m)\u001b[0m\u001b[1;33m\u001b[0m\u001b[0m\n\u001b[0;32m    175\u001b[0m             \u001b[0mvalue\u001b[0m \u001b[1;33m=\u001b[0m \u001b[0mvalue\u001b[0m\u001b[1;33m.\u001b[0m\u001b[0mdata\u001b[0m\u001b[1;33m.\u001b[0m\u001b[0mvalues\u001b[0m\u001b[1;33m(\u001b[0m\u001b[1;33m)\u001b[0m\u001b[1;33m\u001b[0m\u001b[0m\n\u001b[1;32m--> 176\u001b[1;33m         \u001b[0msuper\u001b[0m\u001b[1;33m(\u001b[0m\u001b[0mTable\u001b[0m\u001b[1;33m,\u001b[0m \u001b[0mself\u001b[0m\u001b[1;33m)\u001b[0m\u001b[1;33m.\u001b[0m\u001b[0m_add_item\u001b[0m\u001b[1;33m(\u001b[0m\u001b[0mkey\u001b[0m\u001b[1;33m,\u001b[0m \u001b[0mvalue\u001b[0m\u001b[1;33m,\u001b[0m \u001b[0msort\u001b[0m\u001b[1;33m)\u001b[0m\u001b[1;33m\u001b[0m\u001b[0m\n\u001b[0m\u001b[0;32m    177\u001b[0m \u001b[1;33m\u001b[0m\u001b[0m\n\u001b[0;32m    178\u001b[0m     \u001b[1;33m@\u001b[0m\u001b[0mproperty\u001b[0m\u001b[1;33m\u001b[0m\u001b[0m\n",
      "\u001b[1;32m/home/ceball/anaconda2.3/lib/python2.7/site-packages/holoviews/core/element.pyc\u001b[0m in \u001b[0;36m_add_item\u001b[1;34m(self, key, value, sort)\u001b[0m\n\u001b[0;32m    257\u001b[0m             raise ValueError(\"%s values must match value dimensions\"\n\u001b[0;32m    258\u001b[0m                              % type(self).__name__)\n\u001b[1;32m--> 259\u001b[1;33m         \u001b[0msuper\u001b[0m\u001b[1;33m(\u001b[0m\u001b[0mNdElement\u001b[0m\u001b[1;33m,\u001b[0m \u001b[0mself\u001b[0m\u001b[1;33m)\u001b[0m\u001b[1;33m.\u001b[0m\u001b[0m_add_item\u001b[0m\u001b[1;33m(\u001b[0m\u001b[0mkey\u001b[0m\u001b[1;33m,\u001b[0m \u001b[0mvalue\u001b[0m\u001b[1;33m,\u001b[0m \u001b[0msort\u001b[0m\u001b[1;33m)\u001b[0m\u001b[1;33m\u001b[0m\u001b[0m\n\u001b[0m\u001b[0;32m    260\u001b[0m \u001b[1;33m\u001b[0m\u001b[0m\n\u001b[0;32m    261\u001b[0m \u001b[1;33m\u001b[0m\u001b[0m\n",
      "\u001b[1;32m/home/ceball/anaconda2.3/lib/python2.7/site-packages/holoviews/core/ndmapping.pyc\u001b[0m in \u001b[0;36m_add_item\u001b[1;34m(self, dim_vals, data, sort)\u001b[0m\n\u001b[0;32m    166\u001b[0m             \u001b[1;32mif\u001b[0m \u001b[0mvals\u001b[0m \u001b[1;33m==\u001b[0m \u001b[1;34m'initial'\u001b[0m\u001b[1;33m:\u001b[0m \u001b[0mself\u001b[0m\u001b[1;33m.\u001b[0m\u001b[0m_cached_index_values\u001b[0m\u001b[1;33m[\u001b[0m\u001b[0mdim\u001b[0m\u001b[1;33m]\u001b[0m \u001b[1;33m=\u001b[0m \u001b[1;33m[\u001b[0m\u001b[1;33m]\u001b[0m\u001b[1;33m\u001b[0m\u001b[0m\n\u001b[0;32m    167\u001b[0m             \u001b[1;32mif\u001b[0m \u001b[1;32mnot\u001b[0m \u001b[0mself\u001b[0m\u001b[1;33m.\u001b[0m\u001b[0m_instantiated\u001b[0m \u001b[1;32mand\u001b[0m \u001b[0mself\u001b[0m\u001b[1;33m.\u001b[0m\u001b[0mget_dimension\u001b[0m\u001b[1;33m(\u001b[0m\u001b[0mdim\u001b[0m\u001b[1;33m)\u001b[0m\u001b[1;33m.\u001b[0m\u001b[0mvalues\u001b[0m \u001b[1;33m==\u001b[0m \u001b[1;34m'initial'\u001b[0m\u001b[1;33m:\u001b[0m\u001b[1;33m\u001b[0m\u001b[0m\n\u001b[1;32m--> 168\u001b[1;33m                 \u001b[1;32mif\u001b[0m \u001b[0mval\u001b[0m \u001b[1;32mnot\u001b[0m \u001b[1;32min\u001b[0m \u001b[0mvals\u001b[0m\u001b[1;33m:\u001b[0m\u001b[1;33m\u001b[0m\u001b[0m\n\u001b[0m\u001b[0;32m    169\u001b[0m                     \u001b[0mself\u001b[0m\u001b[1;33m.\u001b[0m\u001b[0m_cached_index_values\u001b[0m\u001b[1;33m[\u001b[0m\u001b[0mdim\u001b[0m\u001b[1;33m]\u001b[0m\u001b[1;33m.\u001b[0m\u001b[0mappend\u001b[0m\u001b[1;33m(\u001b[0m\u001b[0mval\u001b[0m\u001b[1;33m)\u001b[0m\u001b[1;33m\u001b[0m\u001b[0m\n\u001b[0;32m    170\u001b[0m             \u001b[1;32melif\u001b[0m \u001b[0mvals\u001b[0m \u001b[1;32mand\u001b[0m \u001b[0mval\u001b[0m \u001b[1;32mnot\u001b[0m \u001b[1;32min\u001b[0m \u001b[0mvals\u001b[0m\u001b[1;33m:\u001b[0m\u001b[1;33m\u001b[0m\u001b[0m\n",
      "\u001b[1;31mTypeError\u001b[0m: 'in <string>' requires string as left operand, not numpy.int64"
     ]
    }
   ],
   "source": [
    "example2.table('a','b')"
   ]
  },
  {
   "cell_type": "code",
   "execution_count": null,
   "metadata": {
    "collapsed": true
   },
   "outputs": [],
   "source": []
  }
 ],
 "metadata": {
  "kernelspec": {
   "display_name": "Python 2",
   "language": "python",
   "name": "python2"
  },
  "language_info": {
   "codemirror_mode": {
    "name": "ipython",
    "version": 2
   },
   "file_extension": ".py",
   "mimetype": "text/x-python",
   "name": "python",
   "nbconvert_exporter": "python",
   "pygments_lexer": "ipython2",
   "version": "2.7.10"
  }
 },
 "nbformat": 4,
 "nbformat_minor": 0
}
