{
 "cells": [
  {
   "cell_type": "code",
   "execution_count": 1,
   "metadata": {},
   "outputs": [
    {
     "name": "stdout",
     "output_type": "stream",
     "text": [
      "Overwriting test.py\n"
     ]
    }
   ],
   "source": [
    "%%writefile test.py\n",
    "\n",
    "import argparse\n",
    "\n",
    "import param\n",
    "from param.cmd import Command,parser_setup_thing\n",
    "from param import concrete_descendents"
   ]
  },
  {
   "cell_type": "code",
   "execution_count": 2,
   "metadata": {},
   "outputs": [
    {
     "name": "stdout",
     "output_type": "stream",
     "text": [
      "Appending to test.py\n"
     ]
    }
   ],
   "source": [
    "%%writefile -a test.py\n",
    "\n",
    "class Some_Fn(Command):\n",
    "    \"\"\"some docstring\"\"\"\n",
    "\n",
    "    some_option = param.Number(default=10, bounds=(0,20),doc=\"number\")\n",
    "\n",
    "    another_option = param.ObjectSelector(default=\"no\",objects=[\"no\",\"yes\",\"maybe\"])\n",
    "    \n",
    "    def __call__(self,**params):\n",
    "        p = param.ParamOverrides(self,params)\n",
    "        print(\"Some_Fn.__call__\",p)"
   ]
  },
  {
   "cell_type": "code",
   "execution_count": 3,
   "metadata": {},
   "outputs": [
    {
     "name": "stdout",
     "output_type": "stream",
     "text": [
      "Appending to test.py\n"
     ]
    }
   ],
   "source": [
    "%%writefile -a test.py\n",
    "\n",
    "class Another_Thing(Command):\n",
    "    \"\"\"more docstring\"\"\"\n",
    "\n",
    "    some_option3 = param.Number(default=10, bounds=(0,20),doc=\"number\")\n",
    "\n",
    "    def __call__(self,**params):\n",
    "        p = param.ParamOverrides(self,params)\n",
    "        print(\"Another_Thing.__call__\",p)"
   ]
  },
  {
   "cell_type": "code",
   "execution_count": 4,
   "metadata": {},
   "outputs": [
    {
     "name": "stdout",
     "output_type": "stream",
     "text": [
      "Appending to test.py\n"
     ]
    }
   ],
   "source": [
    "%%writefile -a test.py\n",
    "\n",
    "def main(args=None):\n",
    "    parser = argparse.ArgumentParser(description=\"something commands\")\n",
    "    subparsers = parser.add_subparsers(title='available commands')\n",
    "\n",
    "    for fn in concrete_descendents(Command).values():\n",
    "        parser_setup_thing(fn,subparsers)\n",
    "\n",
    "    args = parser.parse_args()    \n",
    "    return args.func(args) if hasattr(args,'func') else parser.error(\"must supply command to run\") \n",
    "    \n",
    "if __name__ == \"__main__\":\n",
    "    main()"
   ]
  },
  {
   "cell_type": "code",
   "execution_count": 5,
   "metadata": {},
   "outputs": [
    {
     "name": "stdout",
     "output_type": "stream",
     "text": [
      "usage: test.py [-h] {some-fn,another-thing} ...\r\n",
      "\r\n",
      "something commands\r\n",
      "\r\n",
      "optional arguments:\r\n",
      "  -h, --help            show this help message and exit\r\n",
      "\r\n",
      "available commands:\r\n",
      "  {some-fn,another-thing}\r\n",
      "    some-fn             params(another_option=ObjectSelector, some_option=Number, name=String) some docstring\r\n",
      "                        \u001b[1;32mParameters of 'Some_Fn' ======================= \u001b[0m \u001b[1;31mParameters changed from their\r\n",
      "                        default values are marked in red.\u001b[0m \u001b[1;36mSoft bound values are marked in cyan.\u001b[0m C/V=\r\n",
      "                        Constant/Variable, RO/RW = ReadOnly/ReadWrite, AN=Allow None \u001b[1;34mName Value Type Bounds Mode \u001b[0m\r\n",
      "                        another_option 'no' ObjectSelector V RW some_option 10 Number (0, 20) V RW \u001b[1;32mParameter\r\n",
      "                        docstrings: =====================\u001b[0m \u001b[1;34manother_option: < No docstring available >\u001b[0m\r\n",
      "                        \u001b[1;31msome_option: number\u001b[0m\r\n",
      "    another-thing       params(some_option3=Number, name=String) more docstring \u001b[1;32mParameters of 'Another_Thing'\r\n",
      "                        ============================= \u001b[0m \u001b[1;31mParameters changed from their default values are marked in\r\n",
      "                        red.\u001b[0m \u001b[1;36mSoft bound values are marked in cyan.\u001b[0m C/V= Constant/Variable, RO/RW =\r\n",
      "                        ReadOnly/ReadWrite, AN=Allow None \u001b[1;34mName Value Type Bounds Mode \u001b[0m some_option3 10 Number (0,\r\n",
      "                        20) V RW \u001b[1;32mParameter docstrings: =====================\u001b[0m \u001b[1;34msome_option3: number\u001b[0m\r\n"
     ]
    }
   ],
   "source": [
    "! python test.py --help"
   ]
  },
  {
   "cell_type": "code",
   "execution_count": 6,
   "metadata": {},
   "outputs": [
    {
     "name": "stdout",
     "output_type": "stream",
     "text": [
      "Some_Fn.__call__ {'name': 'Some_Fn', 'some_option': 10.0, 'another_option': 'yes'} overriding params from Some_Fn(another_option='no', name='Some_Fn', some_option=10)\r\n"
     ]
    }
   ],
   "source": [
    "! python test.py some-fn --some-option=10 --another-option=yes"
   ]
  },
  {
   "cell_type": "code",
   "execution_count": 7,
   "metadata": {},
   "outputs": [
    {
     "name": "stdout",
     "output_type": "stream",
     "text": [
      "Another_Thing.__call__ {'name': 'Another_Thing', 'some_option3': 10} overriding params from Another_Thing(name='Another_Thing', some_option3=10)\r\n"
     ]
    }
   ],
   "source": [
    "! python test.py another-thing"
   ]
  },
  {
   "cell_type": "code",
   "execution_count": null,
   "metadata": {},
   "outputs": [],
   "source": []
  }
 ],
 "metadata": {
  "kernelspec": {
   "display_name": "Python 3",
   "language": "python",
   "name": "python3"
  },
  "language_info": {
   "codemirror_mode": {
    "name": "ipython",
    "version": 3
   },
   "file_extension": ".py",
   "mimetype": "text/x-python",
   "name": "python",
   "nbconvert_exporter": "python",
   "pygments_lexer": "ipython3",
   "version": "3.6.6"
  }
 },
 "nbformat": 4,
 "nbformat_minor": 2
}
